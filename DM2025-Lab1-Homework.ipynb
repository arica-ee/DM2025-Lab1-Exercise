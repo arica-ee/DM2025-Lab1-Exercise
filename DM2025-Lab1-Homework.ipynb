{
 "cells": [
  {
   "cell_type": "markdown",
   "metadata": {},
   "source": [
    "### Student Information\n",
    "Name:尹沛綸\n",
    "\n",
    "Student ID:111304012\n",
    "\n",
    "GitHub ID:arica-ee"
   ]
  },
  {
   "cell_type": "markdown",
   "metadata": {},
   "source": [
    "---"
   ]
  },
  {
   "cell_type": "markdown",
   "metadata": {},
   "source": [
    "### Instructions"
   ]
  },
  {
   "cell_type": "markdown",
   "metadata": {},
   "source": [
    "### First Phase Submission"
   ]
  },
  {
   "cell_type": "markdown",
   "metadata": {},
   "source": [
    "1. First: do the **take home** exercises in the [DM2025-Lab1-Master](https://github.com/leoson-wu/DM2025-Lab1-Exercise/blob/main/DM2025-Lab1-Master.ipynb) that considered as **phase 1 (from exercise 1 to exercise 15)**. You can answer in the master file. __This part is worth 10% of your grade.__\n",
    "\n",
    "\n",
    "2. Second: follow the same process from the [DM2025-Lab1-Master](https://github.com/leoson-wu/DM2025-Lab1-Exercise/blob/main/DM2025-Lab1-Master.ipynb) on **the new dataset** up **until phase 1**. You can skip some exercises if you think some steps are not necessary. However main exercises should be completed. You don't need to explain all details as we did (some **minimal comments** explaining your code are useful though).  __This part is worth 15% of your grade.__\n",
    "    -  Use [the new dataset](https://github.com/leoson-wu/DM2025-Lab1-Exercise/blob/main/newdataset/Reddit-stock-sentiment.csv). The dataset contains a 16 columns including 'text' and 'label', with the sentiment labels being: 1.0 is positive, 0.0 is neutral and -1.0 is negative. You can simplify the dataset and use only the columns that you think are necessary. \n",
    "    \n",
    "    - You are allowed to use and modify the `helper` functions in the folder of the first lab session (notice they may need modification) or create your own.\n",
    "    - Use this file to complete the homework from the second part. Make sure the code can be run from the beginning till the end and has all the needed output.\n",
    "\n",
    "\n",
    "3. Third: please attempt the following tasks on **the new dataset**. __This part is worth 10% of your grade.__\n",
    "    - Generate meaningful **new data visualizations**. Refer to online resources and the Data Mining textbook for inspiration and ideas. \n",
    "    \n",
    "\n",
    "\n",
    "4. Fourth: It's hard for us to follow if your code is messy, so please **tidy up your notebook** and **add minimal comments where needed**. __This part is worth 5% of your grade.__\n",
    "\n",
    "You can submit your homework following these guidelines: [DM2025-Lab1-announcement](https://github.com/leoson-wu/DM2025-Lab1-Announcement/blob/main/README.md). Make sure to commit and save your changes to your repository __BEFORE the deadline (September 28th 11:59 pm, Sunday)__. "
   ]
  },
  {
   "cell_type": "markdown",
   "metadata": {},
   "source": [
    "### Second Phase Submission "
   ]
  },
  {
   "cell_type": "markdown",
   "metadata": {},
   "source": [
    "**You can keep the answer for phase 1 for easier running and update the phase 2 on the same page.**\n",
    "\n",
    "1. First: Continue doing the **take home** exercises in the [DM2025-Lab1-Master](https://github.com/leoson-wu/DM2025-Lab1-Exercise/blob/main/DM2025-Lab1-Master.ipynb) for **phase 2, starting from Finding frequent patterns**. Use the same master(.ipynb) file. Answer from phase 1 will not be considered at this stage. You can answer in the master file. __This part is worth 10% of your grade.__\n",
    "\n",
    "\n",
    "2. Second: Continue from first phase and do the same process from the [DM2025-Lab1-Master](https://github.com/leoson-wu/DM2025-Lab1-Exercise/blob/main/DM2025-Lab1-Master.ipynb) on **the new dataset** for phase 2, starting from Finding frequent pattern. You can skip some exercises if you think some steps are not necessary. However main exercises should be completed. You don't need to explain all details as we did (some **minimal comments** explaining your code are useful though).  __This part is worth 15% of your grade.__\n",
    "    - Continue using this file to complete the homework from the second part. Make sure the code can be run from the beginning till the end and has all the needed output. Use the same new dataset as in phase 1.\n",
    "    \n",
    "    - You are allowed to use and modify the `helper` functions in the folder of the first lab session (notice they may need modification) or create your own.\n",
    "\n",
    "3. Third: please attempt the following tasks on **the new dataset**. __This part is worth 20% of your grade.__\n",
    "    - Use this file to answer.\n",
    "    - Generate **TF-IDF features** from the tokens of each text. This will generating a document matrix, however, the weights will be computed differently (using the TF-IDF value of each word per document as opposed to the word frequency).  Refer to this Scikit-learn [guide](http://scikit-learn.org/stable/modules/generated/sklearn.feature_extraction.text.TfidfVectorizer.html) .\n",
    "    - Implement a simple **Naive Bayes classifier** that automatically classifies the records into their categories. Use both the TF-IDF features and word frequency features to build two seperate classifiers. Note that for the TF-IDF features you might need to use other type of NB classifier different than the one in the Master Notebook. Comment on the differences and when using augmentation with feature pattern.  Refer to this [article](https://hub.packtpub.com/implementing-3-naive-bayes-classifiers-in-scikit-learn/).\n",
    "\n",
    "\n",
    "4. Fourth: In the lab, we applied each step really quickly just to illustrate how to work with your dataset. There are somethings that are not ideal or the most efficient/meaningful. Each dataset can be handled differently as well. What are those inefficent parts you noticed? How can you improve the Data preprocessing for these specific datasets? __This part is worth 10% of your grade.__\n",
    "\n",
    "\n",
    "5. Fifth: It's hard for us to follow if your code is messy, so please **tidy up your notebook** and **add minimal comments where needed**. __This part is worth 5% of your grade.__\n",
    "\n",
    "\n",
    "You can submit your homework following these guidelines: [DM2025-Lab1-announcement](https://github.com/leoson-wu/DM2025-Lab1-Announcement/blob/main/README.md). Make sure to commit and save your changes to your repository __BEFORE the deadline (October 19th 11:59 pm, Sunday)__. "
   ]
  },
  {
   "cell_type": "markdown",
   "metadata": {},
   "source": [
    "# Phase 1"
   ]
  },
  {
   "cell_type": "code",
   "execution_count": 92,
   "metadata": {},
   "outputs": [
    {
     "name": "stdout",
     "output_type": "stream",
     "text": [
      "type              0\n",
      "datetime          0\n",
      "post_id           0\n",
      "subreddit         0\n",
      "title             0\n",
      "author            0\n",
      "url               0\n",
      "upvotes           0\n",
      "downvotes       783\n",
      "upvote_ratio    783\n",
      "text              0\n",
      "subjectivity      0\n",
      "polarity          0\n",
      "sentiment         0\n",
      "entities          0\n",
      "label             0\n",
      "dtype: int64\n",
      "Detect for the strange text values:\n",
      "        type             datetime  post_id         subreddit  \\\n",
      "21   comment  2025-04-06 23:31:33  mls3ha1  stockstobuytoday   \n",
      "37   comment   2025-03-04 0:43:03  mfvnxnj            stocks   \n",
      "41   comment  2021-05-03 22:17:48  gwu560b  stockstobuytoday   \n",
      "55   comment  2025-04-11 16:00:46  mml01xt            stocks   \n",
      "109  comment  2025-04-10 14:34:18  mme7ouv       StockMarket   \n",
      "139  comment   2022-03-31 3:31:17  i2sz1ij  stockstobuytoday   \n",
      "155  comment  2021-10-27 18:38:43  hia34bn  stockstobuytoday   \n",
      "166  comment   2021-01-31 2:02:38  glfo07v  stockstobuytoday   \n",
      "170  comment   2025-04-12 2:32:17  mmo6k32    wallstreetbets   \n",
      "173  comment  2021-03-03 15:53:23  gpjmlow  stockstobuytoday   \n",
      "189  comment  2025-04-11 15:54:11  mmkyphs            stocks   \n",
      "246  comment   2025-04-12 1:28:53  mmnwsf0    wallstreetbets   \n",
      "288  comment  2021-10-27 18:21:08  hia0dqr  stockstobuytoday   \n",
      "299  comment  2025-04-11 12:13:42  mmjtmar       StockMarket   \n",
      "300  comment  2022-04-23 20:11:55  i5x0o24  stockstobuytoday   \n",
      "302  comment  2025-04-11 16:10:40  mml20uw       StockMarket   \n",
      "370  comment   2025-04-12 1:31:08  mmnx5af    wallstreetbets   \n",
      "405  comment  2024-05-17 16:36:02  l4h6p94  stockstobuytoday   \n",
      "416  comment  2025-04-11 15:19:55  mmkrmqs       StockMarket   \n",
      "456  comment   2021-07-01 2:38:11  h3myjii  stockstobuytoday   \n",
      "457  comment  2025-04-11 15:42:58  mmkwda9       StockMarket   \n",
      "544  comment  2025-04-10 15:08:11  mmeekp0       StockMarket   \n",
      "549  comment  2021-10-30 22:45:18  hip6e33  stockstobuytoday   \n",
      "551  comment  2024-05-06 13:53:28  l2tw64h  stockstobuytoday   \n",
      "732  comment  2025-04-11 17:26:07  mmlhdpn    wallstreetbets   \n",
      "750  comment   2025-04-12 2:19:11  mmo4l07    wallstreetbets   \n",
      "798  comment   2025-04-12 2:09:13  mmo31vd    wallstreetbets   \n",
      "806  comment  2025-04-11 16:34:48  mml6uwu    wallstreetbets   \n",
      "819  comment   2025-04-11 9:23:32  mmj9ir9            stocks   \n",
      "840  comment   2025-04-11 9:32:08  mmjac41       StockMarket   \n",
      "\n",
      "                                                 title                author  \\\n",
      "21                            If you had $10k in cash…  Either_Breadfruit_90   \n",
      "37   Rate My Portfolio - r/Stocks Quarterly Thread ...     BippityBoppitty69   \n",
      "41   Shorted Stocks - Hedges crushing NAKD, FAMI, S...      Limp-Project5733   \n",
      "55   The US bond market is continuing to crash. Wil...              J3ster14   \n",
      "109  How do you feel about a sitting president maki...              TimoGloc   \n",
      "139                         Technical Analysis Thread.   Forward-Problem4727   \n",
      "155                   $FCEL, $PLUG $LCID daily tickets               saasfin   \n",
      "166  Stocks with high Short Float. $AAL, $CLVS, $SD...               saasfin   \n",
      "170  Retail giant TARGET has now declined for 10 co...         DiscDownDummy   \n",
      "173  RKT, GME, SENS, FUBO, SRNE, TXMD, INO, TXMD, I...               saasfin   \n",
      "189  The US bond market is continuing to crash. Wil...           Coyotewongo   \n",
      "246  Retail giant TARGET has now declined for 10 co...          Mojojojo3030   \n",
      "288                   $FCEL, $PLUG $LCID daily tickets               saasfin   \n",
      "299  🚨China responds to Trump’s 145% tariff with an...  Distinct-Quantity-35   \n",
      "300                         Technical Analysis Thread.               saasfin   \n",
      "302  The Trump administration is begging Xi Jinping...    Suitable_Carob6906   \n",
      "370  Retail giant TARGET has now declined for 10 co...    BunbunTheJackalope   \n",
      "405  Should I hold all my FFIE shares through the w...         okaybye123345   \n",
      "416                     $ U.S. dollar value (crashing)             ArtMachen   \n",
      "456                         Technical Analysis Thread.             coach_H35   \n",
      "457  Trump: We Are Doing Really Well On Our Tariff ...    IamNotaMonkeyRobot   \n",
      "544  How do you feel about a sitting president maki...  Intestinal-Bookworms   \n",
      "549                         Technical Analysis Thread.        katelynyounglv   \n",
      "551  Safe & Green Holdings (NASDAQ: SGBX) Stock Bul...         TraderMoe1224   \n",
      "732  After Trump Tariffs, Global Investors Don't Tr...      PoopocalypseNow_   \n",
      "750                   Someone post the hotline please.      MonkeyHustler943   \n",
      "798                   Someone post the hotline please.           WebHead1287   \n",
      "806                 Weekly Earnings Thread 4/14 - 4/18           STONKvsTITS   \n",
      "819  BREAKING: China raises tariffs on U.S. goods t...                  Zx40   \n",
      "840  🚨China responds to Trump’s 145% tariff with an...         ijuscrushalot   \n",
      "\n",
      "                                                   url  upvotes  downvotes  \\\n",
      "21   https://www.reddit.com/r/stockstobuytoday/comm...        1        NaN   \n",
      "37   https://www.reddit.com/r/stocks/comments/1j0w7...        5        NaN   \n",
      "41   https://www.reddit.com/r/stockstobuytoday/comm...        1        NaN   \n",
      "55   https://www.reddit.com/r/stocks/comments/1jwsz...        1        NaN   \n",
      "109  https://apnews.com/article/trump-truth-social-...        7        NaN   \n",
      "139  https://www.reddit.com/r/stockstobuytoday/comm...        1        NaN   \n",
      "155  https://www.reddit.com/r/stockstobuytoday/comm...        1        NaN   \n",
      "166  https://www.reddit.com/r/stockstobuytoday/comm...        1        NaN   \n",
      "170               https://i.redd.it/7tl6puv9waue1.jpeg        1        NaN   \n",
      "173  https://www.reddit.com/r/stockstobuytoday/comm...        1        NaN   \n",
      "189  https://www.reddit.com/r/stocks/comments/1jwsz...        1        NaN   \n",
      "246               https://i.redd.it/7tl6puv9waue1.jpeg       14        NaN   \n",
      "288  https://www.reddit.com/r/stockstobuytoday/comm...        1        NaN   \n",
      "299               https://i.redd.it/2f7y4h6226ue1.jpeg        1        NaN   \n",
      "300  https://www.reddit.com/r/stockstobuytoday/comm...        1        NaN   \n",
      "302  https://edition.cnn.com/2025/04/10/politics/tr...        1        NaN   \n",
      "370               https://i.redd.it/7tl6puv9waue1.jpeg        1        NaN   \n",
      "405  https://www.reddit.com/r/stockstobuytoday/comm...        3        NaN   \n",
      "416               https://i.redd.it/atvlo83gk4ue1.jpeg        1        NaN   \n",
      "456  https://www.reddit.com/r/stockstobuytoday/comm...        1        NaN   \n",
      "457                https://i.redd.it/uajqu4kxl7ue1.png        1        NaN   \n",
      "544  https://apnews.com/article/trump-truth-social-...        1        NaN   \n",
      "549  https://www.reddit.com/r/stockstobuytoday/comm...        1        NaN   \n",
      "551  https://abbonews.com/us-markets/safe-green-hol...        2        NaN   \n",
      "732  https://www.axios.com/2025/04/11/trump-tariffs...        1        NaN   \n",
      "750               https://i.redd.it/tcfuu97p7bue1.jpeg        1        NaN   \n",
      "798               https://i.redd.it/tcfuu97p7bue1.jpeg        3        NaN   \n",
      "806               https://i.redd.it/b51iqmecn7ue1.jpeg        2        NaN   \n",
      "819  https://www.reddit.com/r/stocks/comments/1jwku...        2        NaN   \n",
      "840               https://i.redd.it/2f7y4h6226ue1.jpeg        2        NaN   \n",
      "\n",
      "     upvote_ratio       text  subjectivity  polarity  sentiment  \\\n",
      "21            NaN     GEO WM      0.000000      0.00        0.0   \n",
      "37            NaN       Cash      0.000000      0.00        0.0   \n",
      "41            NaN   And plug      0.000000      0.00        0.0   \n",
      "55            NaN  The steal      0.000000      0.00        0.0   \n",
      "109           NaN      FELON      0.000000      0.00        0.0   \n",
      "139           NaN       Joby      0.000000      0.00        0.0   \n",
      "155           NaN      $DVAX      0.000000      0.00        0.0   \n",
      "166           NaN    awesome      1.000000      1.00        1.0   \n",
      "170           NaN       Moar      0.000000      0.00        0.0   \n",
      "173           NaN    Add MIK      0.000000      0.00        0.0   \n",
      "189           NaN  Insanity!      0.000000      0.00        0.0   \n",
      "246           NaN       Same      0.000000      0.00        0.0   \n",
      "288           NaN       $UAA      0.000000      0.00        0.0   \n",
      "299           NaN     Fairly      0.900000      0.70        1.0   \n",
      "300           NaN     [/](/)      0.000000      0.00        0.0   \n",
      "302           NaN   Bullshit      0.000000      0.00        0.0   \n",
      "370           NaN       Good      0.600000      0.70        1.0   \n",
      "405           NaN     Yes!!!      0.000000      0.00        0.0   \n",
      "416           NaN      Nice!      1.000000      0.75        1.0   \n",
      "456           NaN       AAPL      0.000000      0.00        0.0   \n",
      "457           NaN  \"We\" who?      0.000000      0.00        0.0   \n",
      "544           NaN       Bad.      0.666667     -0.70       -1.0   \n",
      "549           NaN        CGC      0.000000      0.00        0.0   \n",
      "551           NaN    Got it!      0.000000      0.00        0.0   \n",
      "732           NaN      Nope.      0.000000      0.00        0.0   \n",
      "750           NaN  Position?      0.000000      0.00        0.0   \n",
      "798           NaN          /      0.000000      0.00        0.0   \n",
      "806           NaN    Good dd      0.600000      0.70        1.0   \n",
      "819           NaN     Racist      0.000000      0.00        0.0   \n",
      "840           NaN     Lol fr      0.700000      0.80        1.0   \n",
      "\n",
      "           entities  label  \n",
      "21    ['GEO', 'WM']    0.0  \n",
      "37         ['Cash']    0.0  \n",
      "41         ['plug']    0.0  \n",
      "55        ['steal']    0.0  \n",
      "109       ['FELON']   -1.0  \n",
      "139        ['Joby']    0.0  \n",
      "155        ['DVAX']    0.0  \n",
      "166     ['awesome']    1.0  \n",
      "170        ['Moar']    0.0  \n",
      "173  ['Add', 'MIK']    0.0  \n",
      "189    ['Insanity']   -1.0  \n",
      "246        ['Same']    0.0  \n",
      "288         ['UAA']    0.0  \n",
      "299              []    0.0  \n",
      "300      ['/', ']']    0.0  \n",
      "302    ['Bullshit']   -1.0  \n",
      "370              []    1.0  \n",
      "405              []    0.0  \n",
      "416        ['Nice']    1.0  \n",
      "456        ['AAPL']    0.0  \n",
      "457              []    0.0  \n",
      "544         ['Bad']   -1.0  \n",
      "549         ['CGC']    0.0  \n",
      "551              []    0.0  \n",
      "732        ['Nope']    0.0  \n",
      "750    ['Position']    0.0  \n",
      "798           ['/']    0.0  \n",
      "806          ['dd']    1.0  \n",
      "819      ['Racist']    0.0  \n",
      "840   ['Lol', 'fr']    0.0  \n"
     ]
    },
    {
     "name": "stderr",
     "output_type": "stream",
     "text": [
      "[nltk_data] Downloading package punkt to /Users/sandyyin/nltk_data...\n",
      "[nltk_data]   Package punkt is already up-to-date!\n",
      "[nltk_data] Downloading package punkt_tab to\n",
      "[nltk_data]     /Users/sandyyin/nltk_data...\n",
      "[nltk_data]   Package punkt_tab is already up-to-date!\n"
     ]
    }
   ],
   "source": [
    "### Begin Assignment Here\n",
    "\n",
    "import pandas as pd\n",
    "import numpy as np\n",
    "import matplotlib.pyplot as plt\n",
    "import seaborn as sns\n",
    "import plotly.express as px\n",
    "import plotly.graph_objects as go\n",
    "import helpers.data_mining_helpers as dmh\n",
    "import nltk\n",
    "import math\n",
    "nltk.download(\"punkt\")\n",
    "nltk.download(\"punkt_tab\")\n",
    "\n",
    "\n",
    "# 讀取資料\n",
    "data = pd.read_csv(\"/Users/sandyyin/Desktop/Data_Mining/DM2025Labs/DM2025-Lab1-Exercise/newdataset/Reddit-stock-sentiment.csv\")\n",
    "\n",
    "\"\"\" Data Preprocessing \"\"\"\n",
    "\n",
    "# 確認資料缺失狀況->downvotes, upvote_ratio初步看蠻多缺失 -> 不太會用到\n",
    "print(data.isnull().sum())\n",
    "\n",
    "# 確認text是否有空值/異常值但沒被檢查到(text < 10) -> 大致確認都算正常 -> 刪掉少數亂碼（包含/$, 大概4rows）\n",
    "print(\"Detect for the strange text values:\")\n",
    "print(data[data[\"text\"].apply(lambda x: len(x) < 10)])\n",
    "data = data[~((data[\"text\"].apply(lambda x: len(x) < 10)) & (data[\"text\"].str.contains(\"/|\\$\", regex = True)))]\n",
    "data.isnull().apply(lambda x: dmh.check_missing_values(x), axis = 1)\n",
    "\n",
    "# 確認是否有重複row，以及重複row的情況\n",
    "duplicated_rows = data[data.duplicated(subset = [\"author\", \"text\"], keep=False)] # 初步觀察重複row很少，且並非大量重複張貼/廣告等，所以先保留\n",
    "duplicated_rows.head(3)\n",
    "\n",
    "# 計算text字數\n",
    "data[\"text_length\"] = data[\"text\"].apply(lambda x: len(x.split(\" \")))"
   ]
  },
  {
   "cell_type": "code",
   "execution_count": 90,
   "metadata": {},
   "outputs": [
    {
     "data": {
      "application/vnd.plotly.v1+json": {
       "config": {
        "plotlyServerURL": "https://plot.ly"
       },
       "data": [
        {
         "marker": {
          "color": "green"
         },
         "name": "post",
         "type": "bar",
         "x": {
          "bdata": "AAAAAAAA8L8AAAAAAAAAAAAAAAAAAPA/",
          "dtype": "f8"
         },
         "xaxis": "x",
         "y": {
          "bdata": "AikV",
          "dtype": "i1"
         },
         "yaxis": "y"
        },
        {
         "marker": {
          "color": "blue"
         },
         "name": "comment",
         "type": "bar",
         "x": {
          "bdata": "AAAAAAAA8L8AAAAAAAAAAAAAAAAAAPA/",
          "dtype": "f8"
         },
         "xaxis": "x",
         "y": {
          "bdata": "wwAeASoB",
          "dtype": "i2"
         },
         "yaxis": "y"
        },
        {
         "type": "box",
         "x": {
          "bdata": "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",
          "dtype": "i2"
         },
         "xaxis": "x2",
         "yaxis": "y2"
        },
        {
         "type": "heatmap",
         "x": [
          "Short (<20)",
          "Medium (21~50)",
          "Long (51~100)",
          "Longer (>100)"
         ],
         "xaxis": "x3",
         "y": {
          "bdata": "AAAAAAAA8L8AAAAAAAAAAAAAAAAAAPA/",
          "dtype": "f8"
         },
         "yaxis": "y3",
         "z": {
          "bdata": "aAA/ABsAAwAnASAAAAAAAJAAaQAnAB8A",
          "dtype": "i2",
          "shape": "3, 4"
         }
        }
       ],
       "layout": {
        "annotations": [
         {
          "font": {
           "size": 16
          },
          "showarrow": false,
          "text": "Sentiment Counts",
          "x": 0.14444444444444446,
          "xanchor": "center",
          "xref": "paper",
          "y": 1,
          "yanchor": "bottom",
          "yref": "paper"
         },
         {
          "font": {
           "size": 16
          },
          "showarrow": false,
          "text": "Text Length Distribution",
          "x": 0.5,
          "xanchor": "center",
          "xref": "paper",
          "y": 1,
          "yanchor": "bottom",
          "yref": "paper"
         },
         {
          "font": {
           "size": 16
          },
          "showarrow": false,
          "text": "Text Length and Sentiment Correlation",
          "x": 0.8555555555555556,
          "xanchor": "center",
          "xref": "paper",
          "y": 1,
          "yanchor": "bottom",
          "yref": "paper"
         }
        ],
        "barmode": "stack",
        "showlegend": false,
        "template": {
         "data": {
          "bar": [
           {
            "error_x": {
             "color": "#2a3f5f"
            },
            "error_y": {
             "color": "#2a3f5f"
            },
            "marker": {
             "line": {
              "color": "#E5ECF6",
              "width": 0.5
             },
             "pattern": {
              "fillmode": "overlay",
              "size": 10,
              "solidity": 0.2
             }
            },
            "type": "bar"
           }
          ],
          "barpolar": [
           {
            "marker": {
             "line": {
              "color": "#E5ECF6",
              "width": 0.5
             },
             "pattern": {
              "fillmode": "overlay",
              "size": 10,
              "solidity": 0.2
             }
            },
            "type": "barpolar"
           }
          ],
          "carpet": [
           {
            "aaxis": {
             "endlinecolor": "#2a3f5f",
             "gridcolor": "white",
             "linecolor": "white",
             "minorgridcolor": "white",
             "startlinecolor": "#2a3f5f"
            },
            "baxis": {
             "endlinecolor": "#2a3f5f",
             "gridcolor": "white",
             "linecolor": "white",
             "minorgridcolor": "white",
             "startlinecolor": "#2a3f5f"
            },
            "type": "carpet"
           }
          ],
          "choropleth": [
           {
            "colorbar": {
             "outlinewidth": 0,
             "ticks": ""
            },
            "type": "choropleth"
           }
          ],
          "contour": [
           {
            "colorbar": {
             "outlinewidth": 0,
             "ticks": ""
            },
            "colorscale": [
             [
              0,
              "#0d0887"
             ],
             [
              0.1111111111111111,
              "#46039f"
             ],
             [
              0.2222222222222222,
              "#7201a8"
             ],
             [
              0.3333333333333333,
              "#9c179e"
             ],
             [
              0.4444444444444444,
              "#bd3786"
             ],
             [
              0.5555555555555556,
              "#d8576b"
             ],
             [
              0.6666666666666666,
              "#ed7953"
             ],
             [
              0.7777777777777778,
              "#fb9f3a"
             ],
             [
              0.8888888888888888,
              "#fdca26"
             ],
             [
              1,
              "#f0f921"
             ]
            ],
            "type": "contour"
           }
          ],
          "contourcarpet": [
           {
            "colorbar": {
             "outlinewidth": 0,
             "ticks": ""
            },
            "type": "contourcarpet"
           }
          ],
          "heatmap": [
           {
            "colorbar": {
             "outlinewidth": 0,
             "ticks": ""
            },
            "colorscale": [
             [
              0,
              "#0d0887"
             ],
             [
              0.1111111111111111,
              "#46039f"
             ],
             [
              0.2222222222222222,
              "#7201a8"
             ],
             [
              0.3333333333333333,
              "#9c179e"
             ],
             [
              0.4444444444444444,
              "#bd3786"
             ],
             [
              0.5555555555555556,
              "#d8576b"
             ],
             [
              0.6666666666666666,
              "#ed7953"
             ],
             [
              0.7777777777777778,
              "#fb9f3a"
             ],
             [
              0.8888888888888888,
              "#fdca26"
             ],
             [
              1,
              "#f0f921"
             ]
            ],
            "type": "heatmap"
           }
          ],
          "histogram": [
           {
            "marker": {
             "pattern": {
              "fillmode": "overlay",
              "size": 10,
              "solidity": 0.2
             }
            },
            "type": "histogram"
           }
          ],
          "histogram2d": [
           {
            "colorbar": {
             "outlinewidth": 0,
             "ticks": ""
            },
            "colorscale": [
             [
              0,
              "#0d0887"
             ],
             [
              0.1111111111111111,
              "#46039f"
             ],
             [
              0.2222222222222222,
              "#7201a8"
             ],
             [
              0.3333333333333333,
              "#9c179e"
             ],
             [
              0.4444444444444444,
              "#bd3786"
             ],
             [
              0.5555555555555556,
              "#d8576b"
             ],
             [
              0.6666666666666666,
              "#ed7953"
             ],
             [
              0.7777777777777778,
              "#fb9f3a"
             ],
             [
              0.8888888888888888,
              "#fdca26"
             ],
             [
              1,
              "#f0f921"
             ]
            ],
            "type": "histogram2d"
           }
          ],
          "histogram2dcontour": [
           {
            "colorbar": {
             "outlinewidth": 0,
             "ticks": ""
            },
            "colorscale": [
             [
              0,
              "#0d0887"
             ],
             [
              0.1111111111111111,
              "#46039f"
             ],
             [
              0.2222222222222222,
              "#7201a8"
             ],
             [
              0.3333333333333333,
              "#9c179e"
             ],
             [
              0.4444444444444444,
              "#bd3786"
             ],
             [
              0.5555555555555556,
              "#d8576b"
             ],
             [
              0.6666666666666666,
              "#ed7953"
             ],
             [
              0.7777777777777778,
              "#fb9f3a"
             ],
             [
              0.8888888888888888,
              "#fdca26"
             ],
             [
              1,
              "#f0f921"
             ]
            ],
            "type": "histogram2dcontour"
           }
          ],
          "mesh3d": [
           {
            "colorbar": {
             "outlinewidth": 0,
             "ticks": ""
            },
            "type": "mesh3d"
           }
          ],
          "parcoords": [
           {
            "line": {
             "colorbar": {
              "outlinewidth": 0,
              "ticks": ""
             }
            },
            "type": "parcoords"
           }
          ],
          "pie": [
           {
            "automargin": true,
            "type": "pie"
           }
          ],
          "scatter": [
           {
            "fillpattern": {
             "fillmode": "overlay",
             "size": 10,
             "solidity": 0.2
            },
            "type": "scatter"
           }
          ],
          "scatter3d": [
           {
            "line": {
             "colorbar": {
              "outlinewidth": 0,
              "ticks": ""
             }
            },
            "marker": {
             "colorbar": {
              "outlinewidth": 0,
              "ticks": ""
             }
            },
            "type": "scatter3d"
           }
          ],
          "scattercarpet": [
           {
            "marker": {
             "colorbar": {
              "outlinewidth": 0,
              "ticks": ""
             }
            },
            "type": "scattercarpet"
           }
          ],
          "scattergeo": [
           {
            "marker": {
             "colorbar": {
              "outlinewidth": 0,
              "ticks": ""
             }
            },
            "type": "scattergeo"
           }
          ],
          "scattergl": [
           {
            "marker": {
             "colorbar": {
              "outlinewidth": 0,
              "ticks": ""
             }
            },
            "type": "scattergl"
           }
          ],
          "scattermap": [
           {
            "marker": {
             "colorbar": {
              "outlinewidth": 0,
              "ticks": ""
             }
            },
            "type": "scattermap"
           }
          ],
          "scattermapbox": [
           {
            "marker": {
             "colorbar": {
              "outlinewidth": 0,
              "ticks": ""
             }
            },
            "type": "scattermapbox"
           }
          ],
          "scatterpolar": [
           {
            "marker": {
             "colorbar": {
              "outlinewidth": 0,
              "ticks": ""
             }
            },
            "type": "scatterpolar"
           }
          ],
          "scatterpolargl": [
           {
            "marker": {
             "colorbar": {
              "outlinewidth": 0,
              "ticks": ""
             }
            },
            "type": "scatterpolargl"
           }
          ],
          "scatterternary": [
           {
            "marker": {
             "colorbar": {
              "outlinewidth": 0,
              "ticks": ""
             }
            },
            "type": "scatterternary"
           }
          ],
          "surface": [
           {
            "colorbar": {
             "outlinewidth": 0,
             "ticks": ""
            },
            "colorscale": [
             [
              0,
              "#0d0887"
             ],
             [
              0.1111111111111111,
              "#46039f"
             ],
             [
              0.2222222222222222,
              "#7201a8"
             ],
             [
              0.3333333333333333,
              "#9c179e"
             ],
             [
              0.4444444444444444,
              "#bd3786"
             ],
             [
              0.5555555555555556,
              "#d8576b"
             ],
             [
              0.6666666666666666,
              "#ed7953"
             ],
             [
              0.7777777777777778,
              "#fb9f3a"
             ],
             [
              0.8888888888888888,
              "#fdca26"
             ],
             [
              1,
              "#f0f921"
             ]
            ],
            "type": "surface"
           }
          ],
          "table": [
           {
            "cells": {
             "fill": {
              "color": "#EBF0F8"
             },
             "line": {
              "color": "white"
             }
            },
            "header": {
             "fill": {
              "color": "#C8D4E3"
             },
             "line": {
              "color": "white"
             }
            },
            "type": "table"
           }
          ]
         },
         "layout": {
          "annotationdefaults": {
           "arrowcolor": "#2a3f5f",
           "arrowhead": 0,
           "arrowwidth": 1
          },
          "autotypenumbers": "strict",
          "coloraxis": {
           "colorbar": {
            "outlinewidth": 0,
            "ticks": ""
           }
          },
          "colorscale": {
           "diverging": [
            [
             0,
             "#8e0152"
            ],
            [
             0.1,
             "#c51b7d"
            ],
            [
             0.2,
             "#de77ae"
            ],
            [
             0.3,
             "#f1b6da"
            ],
            [
             0.4,
             "#fde0ef"
            ],
            [
             0.5,
             "#f7f7f7"
            ],
            [
             0.6,
             "#e6f5d0"
            ],
            [
             0.7,
             "#b8e186"
            ],
            [
             0.8,
             "#7fbc41"
            ],
            [
             0.9,
             "#4d9221"
            ],
            [
             1,
             "#276419"
            ]
           ],
           "sequential": [
            [
             0,
             "#0d0887"
            ],
            [
             0.1111111111111111,
             "#46039f"
            ],
            [
             0.2222222222222222,
             "#7201a8"
            ],
            [
             0.3333333333333333,
             "#9c179e"
            ],
            [
             0.4444444444444444,
             "#bd3786"
            ],
            [
             0.5555555555555556,
             "#d8576b"
            ],
            [
             0.6666666666666666,
             "#ed7953"
            ],
            [
             0.7777777777777778,
             "#fb9f3a"
            ],
            [
             0.8888888888888888,
             "#fdca26"
            ],
            [
             1,
             "#f0f921"
            ]
           ],
           "sequentialminus": [
            [
             0,
             "#0d0887"
            ],
            [
             0.1111111111111111,
             "#46039f"
            ],
            [
             0.2222222222222222,
             "#7201a8"
            ],
            [
             0.3333333333333333,
             "#9c179e"
            ],
            [
             0.4444444444444444,
             "#bd3786"
            ],
            [
             0.5555555555555556,
             "#d8576b"
            ],
            [
             0.6666666666666666,
             "#ed7953"
            ],
            [
             0.7777777777777778,
             "#fb9f3a"
            ],
            [
             0.8888888888888888,
             "#fdca26"
            ],
            [
             1,
             "#f0f921"
            ]
           ]
          },
          "colorway": [
           "#636efa",
           "#EF553B",
           "#00cc96",
           "#ab63fa",
           "#FFA15A",
           "#19d3f3",
           "#FF6692",
           "#B6E880",
           "#FF97FF",
           "#FECB52"
          ],
          "font": {
           "color": "#2a3f5f"
          },
          "geo": {
           "bgcolor": "white",
           "lakecolor": "white",
           "landcolor": "#E5ECF6",
           "showlakes": true,
           "showland": true,
           "subunitcolor": "white"
          },
          "hoverlabel": {
           "align": "left"
          },
          "hovermode": "closest",
          "mapbox": {
           "style": "light"
          },
          "paper_bgcolor": "white",
          "plot_bgcolor": "#E5ECF6",
          "polar": {
           "angularaxis": {
            "gridcolor": "white",
            "linecolor": "white",
            "ticks": ""
           },
           "bgcolor": "#E5ECF6",
           "radialaxis": {
            "gridcolor": "white",
            "linecolor": "white",
            "ticks": ""
           }
          },
          "scene": {
           "xaxis": {
            "backgroundcolor": "#E5ECF6",
            "gridcolor": "white",
            "gridwidth": 2,
            "linecolor": "white",
            "showbackground": true,
            "ticks": "",
            "zerolinecolor": "white"
           },
           "yaxis": {
            "backgroundcolor": "#E5ECF6",
            "gridcolor": "white",
            "gridwidth": 2,
            "linecolor": "white",
            "showbackground": true,
            "ticks": "",
            "zerolinecolor": "white"
           },
           "zaxis": {
            "backgroundcolor": "#E5ECF6",
            "gridcolor": "white",
            "gridwidth": 2,
            "linecolor": "white",
            "showbackground": true,
            "ticks": "",
            "zerolinecolor": "white"
           }
          },
          "shapedefaults": {
           "line": {
            "color": "#2a3f5f"
           }
          },
          "ternary": {
           "aaxis": {
            "gridcolor": "white",
            "linecolor": "white",
            "ticks": ""
           },
           "baxis": {
            "gridcolor": "white",
            "linecolor": "white",
            "ticks": ""
           },
           "bgcolor": "#E5ECF6",
           "caxis": {
            "gridcolor": "white",
            "linecolor": "white",
            "ticks": ""
           }
          },
          "title": {
           "x": 0.05
          },
          "xaxis": {
           "automargin": true,
           "gridcolor": "white",
           "linecolor": "white",
           "ticks": "",
           "title": {
            "standoff": 15
           },
           "zerolinecolor": "white",
           "zerolinewidth": 2
          },
          "yaxis": {
           "automargin": true,
           "gridcolor": "white",
           "linecolor": "white",
           "ticks": "",
           "title": {
            "standoff": 15
           },
           "zerolinecolor": "white",
           "zerolinewidth": 2
          }
         }
        },
        "xaxis": {
         "anchor": "y",
         "domain": [
          0,
          0.2888888888888889
         ]
        },
        "xaxis2": {
         "anchor": "y2",
         "domain": [
          0.35555555555555557,
          0.6444444444444445
         ]
        },
        "xaxis3": {
         "anchor": "y3",
         "domain": [
          0.7111111111111111,
          1
         ]
        },
        "yaxis": {
         "anchor": "x",
         "domain": [
          0,
          1
         ]
        },
        "yaxis2": {
         "anchor": "x2",
         "domain": [
          0,
          1
         ]
        },
        "yaxis3": {
         "anchor": "x3",
         "domain": [
          0,
          1
         ]
        }
       }
      }
     },
     "metadata": {},
     "output_type": "display_data"
    }
   ],
   "source": [
    "\"\"\" EDA \"\"\"\n",
    "\n",
    "from plotly.subplots import make_subplots\n",
    "\n",
    "figure = make_subplots(rows = 1, cols = 3, subplot_titles = (\"Sentiment Counts\", \"Text Length Distribution\", \"Text Length and Sentiment Correlation\"))\n",
    "\n",
    "# sentiment & type 資料分布-> 平均，comment較多，負向情緒偏少，post幾乎沒有負向樣本\n",
    "stack_data = data.groupby([\"sentiment\", \"type\"]).size().unstack()\n",
    "\n",
    "color = [\"green\", \"blue\"]\n",
    "\n",
    "cols = stack_data.columns[::-1]\n",
    "\n",
    "for i, col in enumerate(cols):\n",
    "    figure.add_trace(\n",
    "        go.Bar(\n",
    "            x = stack_data.index,\n",
    "            y = stack_data[col],\n",
    "            name = str(col),\n",
    "            marker_color = color[i]\n",
    "        ),\n",
    "        row = 1, col = 1\n",
    "    )\n",
    "\n",
    "figure.update_layout(barmode = \"stack\", showlegend = False)  # 設定為堆疊長條圖\n",
    "\n",
    "# 留言長度分布 -> 中位數14, Q3:29，主要以30字以內的字數為主\n",
    "figure.add_trace(\n",
    "    go.Box(x = data['text_length']), row=1, col=2)\n",
    "\n",
    "# 留言長度與情緒關聯 -> 沒什麼關聯\n",
    "data[\"text_length_group\"] = np.select(\n",
    "    [data[\"text_length\"] <= 20, data[\"text_length\"] <= 50, data[\"text_length\"] <= 100, data[\"text_length\"] > 100],\n",
    "    [\"Short (<20)\", \"Medium (21~50)\", \"Long (51~100)\", \"Longer (>100)\"], default = \"\"\n",
    ")\n",
    "\n",
    "heat_table = data.pivot_table(\n",
    "    index = \"sentiment\",\n",
    "    columns = \"text_length_group\",\n",
    "    aggfunc = \"size\",\n",
    "    fill_value = 0\n",
    ")\n",
    "\n",
    "order = [\"Short (<20)\", \"Medium (21~50)\", \"Long (51~100)\", \"Longer (>100)\"]\n",
    "heat_table = heat_table[order]\n",
    "\n",
    "figure.add_trace(\n",
    "    go.Heatmap(x = heat_table.columns, y= heat_table.index, z = heat_table.values), row = 1, col = 3)\n",
    "\n",
    "figure.show()"
   ]
  },
  {
   "cell_type": "code",
   "execution_count": 128,
   "metadata": {},
   "outputs": [
    {
     "name": "stdout",
     "output_type": "stream",
     "text": [
      "['Calls', 'on', 'retards']\n"
     ]
    },
    {
     "data": {
      "text/plain": [
       "' 偏平均的 : just, market, trump .... '"
      ]
     },
     "execution_count": 128,
     "metadata": {},
     "output_type": "execute_result"
    },
    {
     "data": {
      "image/png": "[encoded data removed]",
      "text/plain": [
       "<Figure size 1200x800 with 2 Axes>"
      ]
     },
     "metadata": {},
     "output_type": "display_data"
    }
   ],
   "source": [
    "\"\"\" Text Mining-1 \"\"\"\n",
    "from sklearn.feature_extraction.text import CountVectorizer\n",
    "\n",
    "count_vect = CountVectorizer(stop_words = \"english\") # 後續會刪掉英文停用詞\n",
    "\n",
    "# 把字拆開\n",
    "data[\"split_words\"] = data[\"text\"].apply(lambda x: dmh.tokenize_text(x))\n",
    "print(data[\"split_words\"][0]) # 印出第一筆資料的拆字結果看看\n",
    "\n",
    "# 創建一個詞頻矩陣（已去掉英文停用詞）\n",
    "text_count = count_vect.fit_transform(data[\"text\"])\n",
    "text_list = count_vect.get_feature_names_out()\n",
    "text_app_mapping_table = pd.DataFrame(text_count.toarray(), columns = text_list, index = data.index)\n",
    "\n",
    "# # 看看矩陣大小\n",
    "# print(text_app_mapping_table.shape)\n",
    "# print(text_app_mapping_table.head(3))\n",
    "\n",
    "plt.subplots(figsize = (12, 8))\n",
    "\n",
    "# 畫出三種heatmap呈現詞頻最高的字\n",
    "positive_index = data[data[\"sentiment\"] == 1].index\n",
    "neutral_index = data[data[\"sentiment\"] == 0].index\n",
    "negative_index = data[data[\"sentiment\"] == -1].index\n",
    "\n",
    "index_list = [positive_index, neutral_index, negative_index]\n",
    "sentiment_list = [\"Positive\", \"Neutral\", \"Negative\"]\n",
    "\n",
    "top_words = text_app_mapping_table.sum().sort_values(ascending = False).head(20).index\n",
    "\n",
    "heat_data = pd.DataFrame(index = [\"Positive\", \"Neutral\", \"Negative\"], columns = top_words)\n",
    "\n",
    "for sentiment, idx in zip(sentiment_list, index_list):\n",
    "    heat_data.loc[sentiment] = text_app_mapping_table.loc[idx, top_words].sum()\n",
    "\n",
    "sns.heatmap(heat_data.astype(float), annot = True, cmap = \"Blues\")\n",
    "plt.title(\"Word Frequency Heatmap by Sentiment\")\n",
    "plt.xlabel(\"Words\")\n",
    "plt.ylabel(\"Sentiment\")\n",
    "\n",
    "\"\"\" 可以發現到有些字比較極端（大部分出現在正面/負面，少出現在中性文章） \"\"\"\n",
    "\"\"\" 比方說 都偏正面的字：good, futures, stock, price \"\"\"\n",
    "\"\"\" 偏平均的 : just, market, trump .... \"\"\""
   ]
  },
  {
   "cell_type": "code",
   "execution_count": 129,
   "metadata": {},
   "outputs": [
    {
     "name": "stderr",
     "output_type": "stream",
     "text": [
      "/var/folders/04/2gl427fj70327xl4vnc_xs580000gn/T/ipykernel_87969/1709846260.py:20: UserWarning:\n",
      "\n",
      "set_ticklabels() should only be used with a fixed number of ticks, i.e. after set_ticks() or using a FixedLocator.\n",
      "\n",
      "/var/folders/04/2gl427fj70327xl4vnc_xs580000gn/T/ipykernel_87969/1709846260.py:20: UserWarning:\n",
      "\n",
      "set_ticklabels() should only be used with a fixed number of ticks, i.e. after set_ticks() or using a FixedLocator.\n",
      "\n",
      "/var/folders/04/2gl427fj70327xl4vnc_xs580000gn/T/ipykernel_87969/1709846260.py:20: UserWarning:\n",
      "\n",
      "set_ticklabels() should only be used with a fixed number of ticks, i.e. after set_ticks() or using a FixedLocator.\n",
      "\n"
     ]
    },
    {
     "data": {
      "image/png": "[encoded data removed]",
      "text/plain": [
       "<Figure size 2000x400 with 3 Axes>"
      ]
     },
     "metadata": {},
     "output_type": "display_data"
    },
    {
     "data": {
      "text/plain": [
       "' \\n一些insight：\\nmarket, good是很正向的關鍵詞\\n出現china的評論大部分不是正向就是負向（很少中立的）\\n'"
      ]
     },
     "execution_count": 129,
     "metadata": {},
     "output_type": "execute_result"
    }
   ],
   "source": [
    "\"\"\" Text Mining-2 \"\"\"\n",
    "\n",
    "# 再分別畫出每個類別字頻最高的字\n",
    "fig, axes = plt.subplots(1, 3, figsize = (20, 4))\n",
    "\n",
    "positive_data = text_app_mapping_table.loc[positive_index]\n",
    "neutral_data = text_app_mapping_table.loc[neutral_index]\n",
    "negative_data = text_app_mapping_table.loc[negative_index]\n",
    "\n",
    "# 抓出每個類別出現頻率前十高的字\n",
    "positive_top_words = positive_data.sum().sort_values(ascending = False).head(10)\n",
    "neutral_top_words = neutral_data.sum().sort_values(ascending = False).head(10)\n",
    "negative_top_words = negative_data.sum().sort_values(ascending = False).head(10)\n",
    "\n",
    "data_list = [positive_top_words, neutral_top_words, negative_top_words]\n",
    "title_list = [\"POSITIVE\", \"NEUTRAL\", \"NEGATIVE\"]\n",
    "\n",
    "for axes, df, tl in zip(axes, data_list, title_list):\n",
    "    sns.barplot(x = df.index, y = df.values, ax = axes)\n",
    "    axes.set_xticklabels(df.index, rotation = 90)\n",
    "    axes.set_title(tl)\n",
    "    axes.set_ylabel(\"Word Frequency\")\n",
    "    axes.set_xlabel(\"Words\")\n",
    "    axes.set_ylim(0, 80)\n",
    "\n",
    "plt.show()\n",
    "\n",
    "\"\"\" \n",
    "一些insight：\n",
    "market, good是很正向的關鍵詞\n",
    "出現china的評論大部分不是正向就是負向（很少中立的）\n",
    "\"\"\""
   ]
  },
  {
   "cell_type": "code",
   "execution_count": 138,
   "metadata": {},
   "outputs": [
    {
     "data": {
      "application/vnd.plotly.v1+json": {
       "config": {
        "plotlyServerURL": "https://plot.ly"
       },
       "data": [
        {
         "bingroup": "x",
         "histfunc": "sum",
         "hovertemplate": "x=%{x}<br>sum of y=%{y}<extra></extra>",
         "legendgroup": "",
         "marker": {
          "color": "#636efa",
          "pattern": {
           "shape": ""
          }
         },
         "name": "",
         "orientation": "v",
         "showlegend": false,
         "type": "histogram",
         "x": [
          "market",
          "just",
          "trump",
          "like",
          "china",
          "think",
          "people",
          "stock",
          "going",
          "good",
          "money",
          "tariffs",
          "make",
          "time",
          "price",
          "want",
          "don",
          "doing",
          "futures",
          "silver",
          "right",
          "company",
          "x200b",
          "years",
          "day",
          "economy",
          "world",
          "today",
          "stocks",
          "did",
          "doesn",
          "dollar",
          "really",
          "way",
          "buy",
          "companies",
          "know",
          "long",
          "week",
          "stockbuyvest",
          "com",
          "new",
          "does",
          "year",
          "sell",
          "trade",
          "10",
          "better",
          "ll",
          "bad",
          "ve",
          "look",
          "looking",
          "xi",
          "american",
          "emote",
          "wants",
          "say",
          "high",
          "t5_2th52",
          "img",
          "term",
          "things",
          "fuck",
          "need",
          "trading",
          "let",
          "thing",
          "isn",
          "point",
          "big",
          "president",
          "bond",
          "literally",
          "bonds",
          "america",
          "investors",
          "got",
          "news",
          "selling",
          "shit",
          "war",
          "higher",
          "usa",
          "country",
          "end",
          "reason",
          "invest",
          "feel",
          "hold",
          "daily",
          "calls",
          "didn",
          "technology",
          "gold",
          "future",
          "portfolio",
          "sure",
          "data",
          "updated",
          "chinese",
          "reddit",
          "worse",
          "tariff",
          "buying",
          "countries",
          "come",
          "deal",
          "pretty",
          "lose",
          "puts",
          "great",
          "lot",
          "target",
          "ago",
          "lower",
          "currently",
          "far",
          "industry",
          "real",
          "happening",
          "spy",
          "usd",
          "said",
          "work",
          "50",
          "went",
          "plan",
          "won",
          "power",
          "life",
          "rest",
          "risk",
          "making",
          "moving",
          "free",
          "investment",
          "lol",
          "100",
          "lithium",
          "getting",
          "happen",
          "seen",
          "probably",
          "gonna",
          "cash",
          "star",
          "actually",
          "believe",
          "fed",
          "growth",
          "rates",
          "called",
          "help",
          "haven",
          "administration",
          "thanks",
          "analysis",
          "markets",
          "idea",
          "earnings",
          "short",
          "use",
          "love",
          "days",
          "place",
          "government",
          "support",
          "maybe",
          "paper",
          "little",
          "group",
          "note",
          "30",
          "used",
          "republican",
          "investing",
          "month",
          "report",
          "gme",
          "lmao",
          "current",
          "likely",
          "past",
          "weekly",
          "trust",
          "stuff",
          "old",
          "americans",
          "treasuries",
          "wrong",
          "share",
          "mean",
          "read",
          "graphite",
          "powell",
          "state",
          "water",
          "stop",
          "yeah",
          "comes",
          "expect",
          "prices",
          "potential",
          "squeeze",
          "build",
          "months",
          "talking",
          "insider",
          "talk",
          "12",
          "thought",
          "economic",
          "bull",
          "oil",
          "fucking",
          "highlights",
          "debt",
          "face",
          "massive",
          "aviation",
          "hey",
          "dividend",
          "ev",
          "started",
          "matter",
          "start",
          "expecting",
          "million",
          "electric",
          "upgrades",
          "care",
          "makes",
          "hurt",
          "coming",
          "using",
          "rise",
          "man",
          "cost",
          "safe",
          "line",
          "yields",
          "guy",
          "white",
          "bought",
          "left",
          "media",
          "guys",
          "completely",
          "drop",
          "15",
          "anymore",
          "red",
          "significant",
          "goes",
          "saying",
          "trends",
          "25",
          "thank",
          "sentiment",
          "treasury",
          "wanted",
          "recently",
          "try",
          "trying",
          "4271",
          "small",
          "late",
          "art",
          "expectations",
          "different",
          "sales",
          "shorts",
          "wasn",
          "ask",
          "understand",
          "safety",
          "allies",
          "congress",
          "funds",
          "advice",
          "coin",
          "sector",
          "20",
          "wait",
          "dont",
          "smart",
          "soon",
          "basically",
          "true",
          "based",
          "citizens",
          "record",
          "business",
          "worth",
          "best",
          "morning",
          "insights",
          "investor",
          "recent",
          "ok",
          "away",
          "prison",
          "inflight",
          "ass",
          "win",
          "list",
          "retard",
          "live",
          "goods",
          "lots",
          "working",
          "chart",
          "hard",
          "hours",
          "person",
          "knows",
          "crazy",
          "physical",
          "losing",
          "play",
          "playing",
          "check",
          "lost",
          "shares",
          "trend",
          "giving",
          "remember",
          "airlines",
          "fast",
          "decline",
          "recession",
          "downgrades",
          "sense",
          "maga",
          "april",
          "removed",
          "charging",
          "capital",
          "2025",
          "local",
          "weeks",
          "wsb",
          "allocation",
          "retarded",
          "tesla",
          "similar",
          "times",
          "dollars",
          "btcusd",
          "vote",
          "vs",
          "looks",
          "law",
          "cut",
          "uk",
          "game",
          "rich",
          "revenue",
          "gappers",
          "stupid",
          "yes",
          "systems",
          "post",
          "product",
          "falling",
          "car",
          "assets",
          "important",
          "able",
          "000",
          "biggest",
          "happens",
          "change",
          "fair",
          "sort",
          "thoughts",
          "inflation",
          "energy",
          "idiot",
          "dude",
          "cap",
          "office",
          "strategy",
          "easily",
          "political",
          "policy",
          "position",
          "bank",
          "dumb",
          "pepeusd",
          "avoid",
          "half",
          "crash",
          "worst",
          "ethusd",
          "ccp",
          "especially",
          "evgo",
          "holds",
          "happened",
          "clown",
          "wise",
          "predict",
          "wonder",
          "fall",
          "gop",
          "cnbc",
          "following",
          "orange",
          "reading",
          "exactly",
          "hear",
          "portfolios",
          "spike",
          "foreign",
          "stable",
          "actual",
          "euro",
          "etfs",
          "highest",
          "dd",
          "charts",
          "situation",
          "wild",
          "ha",
          "chatgpt",
          "entire",
          "seeing",
          "store",
          "delusional",
          "accurate",
          "cards",
          "imagine",
          "friends",
          "strong",
          "fucked",
          "gas",
          "base",
          "save",
          "parts",
          "gets",
          "forward",
          "watch",
          "question",
          "ai",
          "green",
          "couple",
          "financial",
          "coinbase",
          "apple",
          "international",
          "amc",
          "mentioned",
          "uptrend",
          "indicate",
          "unfortunately",
          "jasmyusd",
          "demand",
          "nvidia",
          "nvda",
          "job",
          "confident",
          "switch",
          "northern",
          "cse",
          "japan",
          "nice",
          "brain",
          "thread",
          "zero",
          "warning",
          "influence",
          "mind",
          "majority",
          "tech",
          "democracy",
          "corp",
          "90",
          "nasdaq",
          "bit",
          "needs",
          "interesting",
          "tell",
          "cryptocurrency",
          "yo",
          "natural",
          "voted",
          "bigger",
          "11",
          "kind",
          "bullshit",
          "version",
          "walmart",
          "level",
          "wouldn",
          "waiting",
          "instead",
          "thinking",
          "monday",
          "trap",
          "learn",
          "slow",
          "various",
          "5000",
          "500",
          "torrente",
          "total",
          "tracking",
          "traders",
          "40",
          "trending",
          "terms",
          "vp",
          "22",
          "weak",
          "word",
          "worked",
          "works",
          "yesterday",
          "young",
          "ticker",
          "simply",
          "syntheia",
          "weekend",
          "poor",
          "shop",
          "players",
          "standard",
          "propaganda",
          "profit",
          "politics",
          "perfectly",
          "period",
          "pessimism",
          "phase",
          "phone",
          "points",
          "products",
          "politically",
          "asked",
          "popular",
          "possible",
          "pr",
          "pre",
          "ats",
          "atlas",
          "assuming",
          "sna",
          "ones",
          "social",
          "navigation",
          "oh",
          "begging",
          "north",
          "loss",
          "book",
          "non",
          "bet",
          "night",
          "major",
          "criminals",
          "billion",
          "net",
          "optimism",
          "officials",
          "bitcoin",
          "mid",
          "means",
          "blame",
          "battery",
          "shipping",
          "bear",
          "monitoring",
          "sold",
          "stay",
          "solutions",
          "space",
          "additional",
          "speed",
          "spend",
          "square",
          "activity",
          "survive",
          "starting",
          "step",
          "low",
          "suggest",
          "suggesting",
          "summary",
          "super",
          "supply",
          "paying",
          "critical",
          "biden",
          "online",
          "public",
          "millions",
          "services",
          "el",
          "despite",
          "imo",
          "gaining",
          "changing",
          "couldn",
          "house",
          "history",
          "cause",
          "holding",
          "home",
          "insane",
          "honestly",
          "information",
          "equities",
          "eod",
          "ending",
          "interested",
          "em",
          "election",
          "individual",
          "indicators",
          "kinda",
          "crypto",
          "customer",
          "finra",
          "agree",
          "fine",
          "large",
          "breaking",
          "fun",
          "corn",
          "generally",
          "clearly",
          "direction",
          "dictatorship",
          "closely",
          "cool",
          "crude",
          "god",
          "follow",
          "leader",
          "bro",
          "friday",
          "depends",
          "conversely",
          "dead",
          "kings",
          "indication",
          "ceo",
          "currency",
          "deep",
          "00",
          "living",
          "pause",
          "pushing",
          "argument",
          "rate",
          "ready",
          "recommendations",
          "relevant",
          "remove",
          "retail",
          "amzn",
          "rising",
          "amazon",
          "russia",
          "says",
          "school",
          "elected",
          "second",
          "center",
          "rule",
          "hell",
          "combined",
          "dump",
          "health",
          "dumbass",
          "comment",
          "fell",
          "consumer",
          "guess",
          "donald",
          "federal",
          "felt",
          "jail",
          "crashing",
          "having",
          "fact",
          "happy",
          "factors",
          "indicates",
          "businesses",
          "hasn",
          "chain",
          "sides",
          "shows",
          "sorry",
          "mining",
          "fake",
          "missing",
          "isnt",
          "smaller",
          "pass",
          "modernizing",
          "forever",
          "fan",
          "slave",
          "sitting",
          "site",
          "single",
          "forget",
          "moment",
          "favorite",
          "gm",
          "sec",
          "realize",
          "screwed",
          "finance",
          "results",
          "general",
          "restaurants",
          "genius",
          "germany",
          "respond",
          "repurchase",
          "replaced",
          "global",
          "near",
          "goal",
          "nearly",
          "related",
          "receiving",
          "gave",
          "isms",
          "plans",
          "ipilimumab",
          "imports",
          "impact",
          "hkd",
          "hodl",
          "personally",
          "held",
          "personal",
          "options",
          "perfect",
          "hopefully",
          "hour",
          "peoples",
          "peace",
          "huge",
          "orders",
          "hyperinflation",
          "pay",
          "riot",
          "hive",
          "plays",
          "shift",
          "improvement",
          "shaun",
          "set",
          "firms",
          "flat",
          "service",
          "ford",
          "selloff",
          "moon",
          "sideways",
          "jan",
          "gone",
          "rational",
          "ongoing",
          "independent",
          "helps",
          "increases",
          "policies",
          "liz",
          "announced",
          "fxaix",
          "consequences",
          "absolutely",
          "bring",
          "116",
          "black",
          "auto",
          "control",
          "adjust",
          "close",
          "capable",
          "casino",
          "attention",
          "cares",
          "bankrupt",
          "allows",
          "idiots",
          "banned",
          "18630",
          "chasing",
          "250",
          "80",
          "bunch",
          "chicks",
          "aapl",
          "35",
          "backed",
          "cheap",
          "combination",
          "analyst",
          "comments",
          "chess",
          "asml",
          "buyers",
          "boating",
          "chargers",
          "appreciated",
          "boliviana",
          "23",
          "common",
          "adding",
          "case",
          "nations",
          "cancellations",
          "costco",
          "acquisition",
          "corrupt",
          "aren",
          "campaign",
          "issue",
          "retards",
          "mph",
          "saving",
          "mr",
          "run",
          "nation",
          "rooting",
          "room",
          "funny",
          "furniture",
          "internet",
          "contracts",
          "cot",
          "clear",
          "acn",
          "allowed",
          "actionable",
          "article",
          "almasria",
          "brother",
          "aerocontractors",
          "bp",
          "court",
          "aviación",
          "comparison",
          "cents",
          "advisors",
          "course",
          "brazil",
          "affect",
          "brazilian",
          "air",
          "partners",
          "circle",
          "im",
          "watchlist",
          "party",
          "thesis",
          "effect",
          "supreme",
          "supported",
          "executive",
          "known",
          "supplier",
          "manipulation",
          "kiss",
          "marine",
          "double",
          "marketing",
          "exact",
          "steal",
          "suffer",
          "metals",
          "largest",
          "damage",
          "states",
          "damn",
          "winning",
          "willing",
          "wife",
          "cycle",
          "wendy",
          "decision",
          "decide",
          "voters",
          "lying",
          "lesson",
          "warrant",
          "tired",
          "watching",
          "weaker",
          "wealth",
          "date",
          "wednesday",
          "successful",
          "study",
          "words",
          "tends",
          "technologies",
          "edge",
          "tank",
          "dumping",
          "eating",
          "spent",
          "economist",
          "military",
          "sw",
          "land",
          "eu",
          "easy",
          "tactics",
          "takes",
          "expensive",
          "explain",
          "passed",
          "telling",
          "mango",
          "stronger",
          "drops",
          "straight",
          "essentially",
          "stations",
          "stick",
          "matters",
          "ethiopian",
          "european",
          "joke",
          "jerome",
          "edit",
          "manipulating",
          "downtrend",
          "drinking",
          "extremely",
          "drive",
          "driving",
          "terrible",
          "lie",
          "exports",
          "currencies",
          "prove",
          "nonsense",
          "normal",
          "haha",
          "handle",
          "hands",
          "production",
          "process",
          "numbers",
          "previous",
          "pressure",
          "industries",
          "premarket",
          "harder",
          "protect",
          "factory",
          "slv",
          "ton",
          "program",
          "posts",
          "unexpected",
          "providing",
          "performance",
          "looked",
          "reaction",
          "positions",
          "newsletter",
          "google",
          "rapidly",
          "rally",
          "raise",
          "quite",
          "quickly",
          "quick",
          "grocery",
          "growing",
          "quarterly",
          "nivolumab",
          "info",
          "value",
          "praising",
          "turns",
          "took",
          "specific",
          "told",
          "tldr",
          "later",
          "manage",
          "main",
          "machine",
          "vehicle",
          "vision",
          "crox",
          "limited"
         ],
         "xaxis": "x",
         "y": {
          "bdata": "b19cU0g0MzMyLi4nJCQkIyIgHh4dHRwbGxoaGhkZGBgYGBgXFxcWFhYWFhUVFRUUFBQUExMTExISEhISEhISEhIRERERERAQEBAQEBAQEBAQDw8PDw8PDw8PDw4ODg4ODg4NDQ0NDQ0NDQ0NDQwMDAwMDAwMDAwMDAwMDAwMDAwMDAsLCwsLCwsLCwsLCwsLCwsLCwsLCwsLCgoKCgoKCgoKCgoKCgoKCgoKCgoJCQkJCQkJCQkJCQkJCQkJCQkJCQkJCQkJCQkJCQkJCQgICAgICAgICAgICAgICAgICAgICAgICAgICAgICAgICAgICAgICAgICAgICAgICAgIBwcHBwcHBwcHBwcHBwcHBwcHBwcHBwcHBwcHBwcHBwcHBwcHBwcHBwcHBwcHBwcHBwcHBwcHBwcHBwcHBwcHBwcHBwcHBgYGBgYGBgYGBgYGBgYGBgYGBgYGBgYGBgYGBgYGBgYGBgYGBgYGBgYGBgYGBgYGBgYGBgYGBgYGBgYGBgYGBgYGBgYGBgYGBgYGBgUFBQUFBQUFBQUFBQUFBQUFBQUFBQUFBQUFBQUFBQUFBQUFBQUFBQUFBQUFBQUFBQUFBQUFBQUFBQUFBQUFBQUFBQUFBQUFBQUFBQUFBQUFBQUFBQUFBQUFBQUFBQUFBQUFBQUFBQQEBAQEBAQEBAQEBAQEBAQEBAQEBAQEBAQEBAQEBAQEBAQEBAQEBAQEBAQEBAQEBAQEBAQEBAQEBAQEBAQEBAQEBAQEBAQEBAQEBAQEBAQEBAQEBAQEBAQEBAQEBAQEBAQEBAQEBAQEBAQEBAQEBAQEBAQEBAQEBAQEBAQEBAQEBAQEBAQEBAQEBAQEBAQEBAQEBAQEBAQEBAQEBAQEBAQEBAQEBAQEBAQEBAQEBAQEBAQEBAQEBAQEBAQEBAQEBAMDAwMDAwMDAwMDAwMDAwMDAwMDAwMDAwMDAwMDAwMDAwMDAwMDAwMDAwMDAwMDAwMDAwMDAwMDAwMDAwMDAwMDAwMDAwMDAwMDAwMDAwMDAwMDAwMDAwMDAwMDAwMDAwMDAwMDAwMDAwMDAwMDAwMDAwMDAwMDAwMDAwMDAwMDAwMDAwMDAwMDAwMDAwMDAwMDAwMDAwMDAwMDAwMDAwMDAwMDAwMDAwMDAwMDAwMDAwMDAwMDAwMDAwMDAwMDAwMDAwMDAwMDAwMDAwMDAwMDAwMDAwMDAwMDAwMDAwMDAwMDAwMDAwMDAwMDAwMDAwMDAwMDAwMDAwMDAwMDAwMDAwMDAwMDAwMDAwMDAwMDAwMDAwMDAwMDAwMDAwMDAwMDAwMDAwMDAwMDAwMDAwMDAw==",
          "dtype": "i1"
         },
         "yaxis": "y"
        }
       ],
       "layout": {
        "barmode": "relative",
        "legend": {
         "tracegroupgap": 0
        },
        "template": {
         "data": {
          "bar": [
           {
            "error_x": {
             "color": "#2a3f5f"
            },
            "error_y": {
             "color": "#2a3f5f"
            },
            "marker": {
             "line": {
              "color": "#E5ECF6",
              "width": 0.5
             },
             "pattern": {
              "fillmode": "overlay",
              "size": 10,
              "solidity": 0.2
             }
            },
            "type": "bar"
           }
          ],
          "barpolar": [
           {
            "marker": {
             "line": {
              "color": "#E5ECF6",
              "width": 0.5
             },
             "pattern": {
              "fillmode": "overlay",
              "size": 10,
              "solidity": 0.2
             }
            },
            "type": "barpolar"
           }
          ],
          "carpet": [
           {
            "aaxis": {
             "endlinecolor": "#2a3f5f",
             "gridcolor": "white",
             "linecolor": "white",
             "minorgridcolor": "white",
             "startlinecolor": "#2a3f5f"
            },
            "baxis": {
             "endlinecolor": "#2a3f5f",
             "gridcolor": "white",
             "linecolor": "white",
             "minorgridcolor": "white",
             "startlinecolor": "#2a3f5f"
            },
            "type": "carpet"
           }
          ],
          "choropleth": [
           {
            "colorbar": {
             "outlinewidth": 0,
             "ticks": ""
            },
            "type": "choropleth"
           }
          ],
          "contour": [
           {
            "colorbar": {
             "outlinewidth": 0,
             "ticks": ""
            },
            "colorscale": [
             [
              0,
              "#0d0887"
             ],
             [
              0.1111111111111111,
              "#46039f"
             ],
             [
              0.2222222222222222,
              "#7201a8"
             ],
             [
              0.3333333333333333,
              "#9c179e"
             ],
             [
              0.4444444444444444,
              "#bd3786"
             ],
             [
              0.5555555555555556,
              "#d8576b"
             ],
             [
              0.6666666666666666,
              "#ed7953"
             ],
             [
              0.7777777777777778,
              "#fb9f3a"
             ],
             [
              0.8888888888888888,
              "#fdca26"
             ],
             [
              1,
              "#f0f921"
             ]
            ],
            "type": "contour"
           }
          ],
          "contourcarpet": [
           {
            "colorbar": {
             "outlinewidth": 0,
             "ticks": ""
            },
            "type": "contourcarpet"
           }
          ],
          "heatmap": [
           {
            "colorbar": {
             "outlinewidth": 0,
             "ticks": ""
            },
            "colorscale": [
             [
              0,
              "#0d0887"
             ],
             [
              0.1111111111111111,
              "#46039f"
             ],
             [
              0.2222222222222222,
              "#7201a8"
             ],
             [
              0.3333333333333333,
              "#9c179e"
             ],
             [
              0.4444444444444444,
              "#bd3786"
             ],
             [
              0.5555555555555556,
              "#d8576b"
             ],
             [
              0.6666666666666666,
              "#ed7953"
             ],
             [
              0.7777777777777778,
              "#fb9f3a"
             ],
             [
              0.8888888888888888,
              "#fdca26"
             ],
             [
              1,
              "#f0f921"
             ]
            ],
            "type": "heatmap"
           }
          ],
          "histogram": [
           {
            "marker": {
             "pattern": {
              "fillmode": "overlay",
              "size": 10,
              "solidity": 0.2
             }
            },
            "type": "histogram"
           }
          ],
          "histogram2d": [
           {
            "colorbar": {
             "outlinewidth": 0,
             "ticks": ""
            },
            "colorscale": [
             [
              0,
              "#0d0887"
             ],
             [
              0.1111111111111111,
              "#46039f"
             ],
             [
              0.2222222222222222,
              "#7201a8"
             ],
             [
              0.3333333333333333,
              "#9c179e"
             ],
             [
              0.4444444444444444,
              "#bd3786"
             ],
             [
              0.5555555555555556,
              "#d8576b"
             ],
             [
              0.6666666666666666,
              "#ed7953"
             ],
             [
              0.7777777777777778,
              "#fb9f3a"
             ],
             [
              0.8888888888888888,
              "#fdca26"
             ],
             [
              1,
              "#f0f921"
             ]
            ],
            "type": "histogram2d"
           }
          ],
          "histogram2dcontour": [
           {
            "colorbar": {
             "outlinewidth": 0,
             "ticks": ""
            },
            "colorscale": [
             [
              0,
              "#0d0887"
             ],
             [
              0.1111111111111111,
              "#46039f"
             ],
             [
              0.2222222222222222,
              "#7201a8"
             ],
             [
              0.3333333333333333,
              "#9c179e"
             ],
             [
              0.4444444444444444,
              "#bd3786"
             ],
             [
              0.5555555555555556,
              "#d8576b"
             ],
             [
              0.6666666666666666,
              "#ed7953"
             ],
             [
              0.7777777777777778,
              "#fb9f3a"
             ],
             [
              0.8888888888888888,
              "#fdca26"
             ],
             [
              1,
              "#f0f921"
             ]
            ],
            "type": "histogram2dcontour"
           }
          ],
          "mesh3d": [
           {
            "colorbar": {
             "outlinewidth": 0,
             "ticks": ""
            },
            "type": "mesh3d"
           }
          ],
          "parcoords": [
           {
            "line": {
             "colorbar": {
              "outlinewidth": 0,
              "ticks": ""
             }
            },
            "type": "parcoords"
           }
          ],
          "pie": [
           {
            "automargin": true,
            "type": "pie"
           }
          ],
          "scatter": [
           {
            "fillpattern": {
             "fillmode": "overlay",
             "size": 10,
             "solidity": 0.2
            },
            "type": "scatter"
           }
          ],
          "scatter3d": [
           {
            "line": {
             "colorbar": {
              "outlinewidth": 0,
              "ticks": ""
             }
            },
            "marker": {
             "colorbar": {
              "outlinewidth": 0,
              "ticks": ""
             }
            },
            "type": "scatter3d"
           }
          ],
          "scattercarpet": [
           {
            "marker": {
             "colorbar": {
              "outlinewidth": 0,
              "ticks": ""
             }
            },
            "type": "scattercarpet"
           }
          ],
          "scattergeo": [
           {
            "marker": {
             "colorbar": {
              "outlinewidth": 0,
              "ticks": ""
             }
            },
            "type": "scattergeo"
           }
          ],
          "scattergl": [
           {
            "marker": {
             "colorbar": {
              "outlinewidth": 0,
              "ticks": ""
             }
            },
            "type": "scattergl"
           }
          ],
          "scattermap": [
           {
            "marker": {
             "colorbar": {
              "outlinewidth": 0,
              "ticks": ""
             }
            },
            "type": "scattermap"
           }
          ],
          "scattermapbox": [
           {
            "marker": {
             "colorbar": {
              "outlinewidth": 0,
              "ticks": ""
             }
            },
            "type": "scattermapbox"
           }
          ],
          "scatterpolar": [
           {
            "marker": {
             "colorbar": {
              "outlinewidth": 0,
              "ticks": ""
             }
            },
            "type": "scatterpolar"
           }
          ],
          "scatterpolargl": [
           {
            "marker": {
             "colorbar": {
              "outlinewidth": 0,
              "ticks": ""
             }
            },
            "type": "scatterpolargl"
           }
          ],
          "scatterternary": [
           {
            "marker": {
             "colorbar": {
              "outlinewidth": 0,
              "ticks": ""
             }
            },
            "type": "scatterternary"
           }
          ],
          "surface": [
           {
            "colorbar": {
             "outlinewidth": 0,
             "ticks": ""
            },
            "colorscale": [
             [
              0,
              "#0d0887"
             ],
             [
              0.1111111111111111,
              "#46039f"
             ],
             [
              0.2222222222222222,
              "#7201a8"
             ],
             [
              0.3333333333333333,
              "#9c179e"
             ],
             [
              0.4444444444444444,
              "#bd3786"
             ],
             [
              0.5555555555555556,
              "#d8576b"
             ],
             [
              0.6666666666666666,
              "#ed7953"
             ],
             [
              0.7777777777777778,
              "#fb9f3a"
             ],
             [
              0.8888888888888888,
              "#fdca26"
             ],
             [
              1,
              "#f0f921"
             ]
            ],
            "type": "surface"
           }
          ],
          "table": [
           {
            "cells": {
             "fill": {
              "color": "#EBF0F8"
             },
             "line": {
              "color": "white"
             }
            },
            "header": {
             "fill": {
              "color": "#C8D4E3"
             },
             "line": {
              "color": "white"
             }
            },
            "type": "table"
           }
          ]
         },
         "layout": {
          "annotationdefaults": {
           "arrowcolor": "#2a3f5f",
           "arrowhead": 0,
           "arrowwidth": 1
          },
          "autotypenumbers": "strict",
          "coloraxis": {
           "colorbar": {
            "outlinewidth": 0,
            "ticks": ""
           }
          },
          "colorscale": {
           "diverging": [
            [
             0,
             "#8e0152"
            ],
            [
             0.1,
             "#c51b7d"
            ],
            [
             0.2,
             "#de77ae"
            ],
            [
             0.3,
             "#f1b6da"
            ],
            [
             0.4,
             "#fde0ef"
            ],
            [
             0.5,
             "#f7f7f7"
            ],
            [
             0.6,
             "#e6f5d0"
            ],
            [
             0.7,
             "#b8e186"
            ],
            [
             0.8,
             "#7fbc41"
            ],
            [
             0.9,
             "#4d9221"
            ],
            [
             1,
             "#276419"
            ]
           ],
           "sequential": [
            [
             0,
             "#0d0887"
            ],
            [
             0.1111111111111111,
             "#46039f"
            ],
            [
             0.2222222222222222,
             "#7201a8"
            ],
            [
             0.3333333333333333,
             "#9c179e"
            ],
            [
             0.4444444444444444,
             "#bd3786"
            ],
            [
             0.5555555555555556,
             "#d8576b"
            ],
            [
             0.6666666666666666,
             "#ed7953"
            ],
            [
             0.7777777777777778,
             "#fb9f3a"
            ],
            [
             0.8888888888888888,
             "#fdca26"
            ],
            [
             1,
             "#f0f921"
            ]
           ],
           "sequentialminus": [
            [
             0,
             "#0d0887"
            ],
            [
             0.1111111111111111,
             "#46039f"
            ],
            [
             0.2222222222222222,
             "#7201a8"
            ],
            [
             0.3333333333333333,
             "#9c179e"
            ],
            [
             0.4444444444444444,
             "#bd3786"
            ],
            [
             0.5555555555555556,
             "#d8576b"
            ],
            [
             0.6666666666666666,
             "#ed7953"
            ],
            [
             0.7777777777777778,
             "#fb9f3a"
            ],
            [
             0.8888888888888888,
             "#fdca26"
            ],
            [
             1,
             "#f0f921"
            ]
           ]
          },
          "colorway": [
           "#636efa",
           "#EF553B",
           "#00cc96",
           "#ab63fa",
           "#FFA15A",
           "#19d3f3",
           "#FF6692",
           "#B6E880",
           "#FF97FF",
           "#FECB52"
          ],
          "font": {
           "color": "#2a3f5f"
          },
          "geo": {
           "bgcolor": "white",
           "lakecolor": "white",
           "landcolor": "#E5ECF6",
           "showlakes": true,
           "showland": true,
           "subunitcolor": "white"
          },
          "hoverlabel": {
           "align": "left"
          },
          "hovermode": "closest",
          "mapbox": {
           "style": "light"
          },
          "paper_bgcolor": "white",
          "plot_bgcolor": "#E5ECF6",
          "polar": {
           "angularaxis": {
            "gridcolor": "white",
            "linecolor": "white",
            "ticks": ""
           },
           "bgcolor": "#E5ECF6",
           "radialaxis": {
            "gridcolor": "white",
            "linecolor": "white",
            "ticks": ""
           }
          },
          "scene": {
           "xaxis": {
            "backgroundcolor": "#E5ECF6",
            "gridcolor": "white",
            "gridwidth": 2,
            "linecolor": "white",
            "showbackground": true,
            "ticks": "",
            "zerolinecolor": "white"
           },
           "yaxis": {
            "backgroundcolor": "#E5ECF6",
            "gridcolor": "white",
            "gridwidth": 2,
            "linecolor": "white",
            "showbackground": true,
            "ticks": "",
            "zerolinecolor": "white"
           },
           "zaxis": {
            "backgroundcolor": "#E5ECF6",
            "gridcolor": "white",
            "gridwidth": 2,
            "linecolor": "white",
            "showbackground": true,
            "ticks": "",
            "zerolinecolor": "white"
           }
          },
          "shapedefaults": {
           "line": {
            "color": "#2a3f5f"
           }
          },
          "ternary": {
           "aaxis": {
            "gridcolor": "white",
            "linecolor": "white",
            "ticks": ""
           },
           "baxis": {
            "gridcolor": "white",
            "linecolor": "white",
            "ticks": ""
           },
           "bgcolor": "#E5ECF6",
           "caxis": {
            "gridcolor": "white",
            "linecolor": "white",
            "ticks": ""
           }
          },
          "title": {
           "x": 0.05
          },
          "xaxis": {
           "automargin": true,
           "gridcolor": "white",
           "linecolor": "white",
           "ticks": "",
           "title": {
            "standoff": 15
           },
           "zerolinecolor": "white",
           "zerolinewidth": 2
          },
          "yaxis": {
           "automargin": true,
           "gridcolor": "white",
           "linecolor": "white",
           "ticks": "",
           "title": {
            "standoff": 15
           },
           "zerolinecolor": "white",
           "zerolinewidth": 2
          }
         }
        },
        "title": {
         "text": "Frequence of Terms"
        },
        "xaxis": {
         "anchor": "y",
         "domain": [
          0,
          1
         ],
         "title": {
          "text": "x"
         }
        },
        "yaxis": {
         "anchor": "x",
         "domain": [
          0,
          1
         ],
         "title": {
          "text": "sum of y"
         }
        }
       }
      }
     },
     "metadata": {},
     "output_type": "display_data"
    },
    {
     "data": {
      "application/vnd.plotly.v1+json": {
       "config": {
        "plotlyServerURL": "https://plot.ly"
       },
       "data": [
        {
         "bingroup": "x",
         "histfunc": "sum",
         "hovertemplate": "x=%{x}<br>sum of y=%{y}<extra></extra>",
         "legendgroup": "",
         "marker": {
          "color": "#636efa",
          "pattern": {
           "shape": ""
          }
         },
         "name": "",
         "orientation": "v",
         "showlegend": false,
         "type": "histogram",
         "x": [
          "market",
          "just",
          "trump",
          "like",
          "china",
          "think",
          "people",
          "stock",
          "going",
          "good",
          "money",
          "tariffs",
          "make",
          "time",
          "price",
          "want",
          "don",
          "doing",
          "futures",
          "silver",
          "right",
          "company",
          "x200b",
          "years",
          "day",
          "economy",
          "world",
          "today",
          "stocks",
          "did",
          "doesn",
          "dollar",
          "really",
          "way",
          "buy",
          "companies",
          "know",
          "long",
          "week",
          "stockbuyvest",
          "com",
          "new",
          "does",
          "year",
          "sell",
          "trade",
          "10",
          "better",
          "ll",
          "bad",
          "ve",
          "look",
          "looking",
          "xi",
          "american",
          "emote",
          "wants",
          "say",
          "high",
          "t5_2th52",
          "img",
          "term",
          "things",
          "fuck",
          "need",
          "trading",
          "let",
          "thing",
          "isn",
          "point",
          "big",
          "president",
          "bond",
          "literally",
          "bonds",
          "america",
          "investors",
          "got",
          "news",
          "selling",
          "shit",
          "war",
          "higher",
          "usa",
          "country",
          "end",
          "reason",
          "invest",
          "feel",
          "hold",
          "daily",
          "calls",
          "didn",
          "technology",
          "gold",
          "future",
          "portfolio",
          "sure",
          "data",
          "updated",
          "chinese",
          "reddit",
          "worse",
          "tariff",
          "buying",
          "countries",
          "come",
          "deal",
          "pretty",
          "lose",
          "puts",
          "great",
          "lot",
          "target",
          "ago",
          "lower",
          "currently",
          "far",
          "industry",
          "real",
          "happening",
          "spy",
          "usd",
          "said",
          "work",
          "50",
          "went",
          "plan",
          "won",
          "power",
          "life",
          "rest",
          "risk",
          "making",
          "moving",
          "free",
          "investment",
          "lol",
          "100",
          "lithium",
          "getting",
          "happen",
          "seen",
          "probably",
          "gonna",
          "cash",
          "star",
          "actually",
          "believe",
          "fed",
          "growth",
          "rates",
          "called",
          "help",
          "haven",
          "administration",
          "thanks",
          "analysis",
          "markets",
          "idea",
          "earnings",
          "short",
          "use",
          "love",
          "days",
          "place",
          "government",
          "support",
          "maybe",
          "paper",
          "little",
          "group",
          "note",
          "30",
          "used",
          "republican",
          "investing",
          "month",
          "report",
          "gme",
          "lmao",
          "current",
          "likely",
          "past",
          "weekly",
          "trust",
          "stuff",
          "old",
          "americans",
          "treasuries",
          "wrong",
          "share",
          "mean",
          "read",
          "graphite",
          "powell",
          "state",
          "water",
          "stop",
          "yeah",
          "comes",
          "expect",
          "prices",
          "potential",
          "squeeze",
          "build",
          "months",
          "talking",
          "insider",
          "talk",
          "12",
          "thought",
          "economic",
          "bull",
          "oil",
          "fucking",
          "highlights",
          "debt",
          "face",
          "massive",
          "aviation",
          "hey",
          "dividend",
          "ev",
          "started",
          "matter",
          "start",
          "expecting",
          "million",
          "electric",
          "upgrades",
          "care",
          "makes",
          "hurt",
          "coming",
          "using",
          "rise",
          "man",
          "cost",
          "safe",
          "line",
          "yields",
          "guy",
          "white",
          "bought",
          "left",
          "media",
          "guys",
          "completely",
          "drop",
          "15",
          "anymore",
          "red",
          "significant",
          "goes",
          "saying",
          "trends",
          "25",
          "thank",
          "sentiment",
          "treasury",
          "wanted",
          "recently",
          "try",
          "trying",
          "4271",
          "small",
          "late",
          "art",
          "expectations",
          "different",
          "sales",
          "shorts",
          "wasn",
          "ask",
          "understand",
          "safety",
          "allies",
          "congress",
          "funds",
          "advice",
          "coin",
          "sector",
          "20",
          "wait",
          "dont",
          "smart",
          "soon",
          "basically",
          "true",
          "based",
          "citizens",
          "record",
          "business",
          "worth",
          "best",
          "morning",
          "insights",
          "investor",
          "recent",
          "ok",
          "away",
          "prison",
          "inflight",
          "ass",
          "win",
          "list",
          "retard",
          "live",
          "goods",
          "lots",
          "working",
          "chart",
          "hard",
          "hours",
          "person",
          "knows",
          "crazy",
          "physical",
          "losing",
          "play",
          "playing",
          "check",
          "lost",
          "shares",
          "trend",
          "giving",
          "remember",
          "airlines",
          "fast",
          "decline",
          "recession",
          "downgrades",
          "sense",
          "maga",
          "april",
          "removed",
          "charging",
          "capital",
          "2025",
          "local",
          "weeks",
          "wsb",
          "allocation",
          "retarded",
          "tesla",
          "similar",
          "times",
          "dollars",
          "btcusd",
          "vote",
          "vs",
          "looks",
          "law",
          "cut",
          "uk",
          "game",
          "rich",
          "revenue",
          "gappers",
          "stupid",
          "yes",
          "systems",
          "post",
          "product",
          "falling",
          "car",
          "assets",
          "important",
          "able",
          "000",
          "biggest",
          "happens",
          "change",
          "fair",
          "sort",
          "thoughts",
          "inflation",
          "energy",
          "idiot",
          "dude",
          "cap",
          "office",
          "strategy",
          "easily",
          "political",
          "policy",
          "position",
          "bank",
          "dumb",
          "pepeusd",
          "avoid",
          "half",
          "crash",
          "worst",
          "ethusd",
          "ccp",
          "especially",
          "evgo",
          "holds",
          "happened",
          "clown",
          "wise",
          "predict",
          "wonder",
          "fall",
          "gop",
          "cnbc",
          "following",
          "orange",
          "reading",
          "exactly",
          "hear",
          "portfolios",
          "spike",
          "foreign",
          "stable",
          "actual",
          "euro",
          "etfs",
          "highest",
          "dd",
          "charts",
          "situation",
          "wild",
          "ha",
          "chatgpt",
          "entire",
          "seeing",
          "store",
          "delusional",
          "accurate",
          "cards",
          "imagine",
          "friends",
          "strong",
          "fucked",
          "gas",
          "base",
          "save",
          "parts",
          "gets",
          "forward",
          "watch",
          "question",
          "ai",
          "green",
          "couple",
          "financial",
          "coinbase",
          "apple",
          "international",
          "amc",
          "mentioned",
          "uptrend",
          "indicate",
          "unfortunately",
          "jasmyusd",
          "demand",
          "nvidia",
          "nvda",
          "job",
          "confident",
          "switch",
          "northern",
          "cse",
          "japan",
          "nice",
          "brain",
          "thread",
          "zero",
          "warning",
          "influence",
          "mind",
          "majority",
          "tech",
          "democracy",
          "corp",
          "90",
          "nasdaq",
          "bit",
          "needs",
          "interesting",
          "tell",
          "cryptocurrency",
          "yo",
          "natural",
          "voted",
          "bigger",
          "11",
          "kind",
          "bullshit",
          "version",
          "walmart",
          "level",
          "wouldn",
          "waiting",
          "instead",
          "thinking",
          "monday",
          "trap",
          "learn",
          "slow",
          "various",
          "5000",
          "500",
          "torrente",
          "total",
          "tracking",
          "traders",
          "40",
          "trending",
          "terms",
          "vp",
          "22",
          "weak",
          "word",
          "worked",
          "works",
          "yesterday",
          "young",
          "ticker",
          "simply",
          "syntheia",
          "weekend",
          "poor",
          "shop",
          "players",
          "standard",
          "propaganda",
          "profit",
          "politics",
          "perfectly",
          "period",
          "pessimism",
          "phase",
          "phone",
          "points",
          "products",
          "politically",
          "asked",
          "popular",
          "possible",
          "pr",
          "pre",
          "ats",
          "atlas",
          "assuming",
          "sna",
          "ones",
          "social",
          "navigation",
          "oh",
          "begging",
          "north",
          "loss",
          "book",
          "non",
          "bet",
          "night",
          "major",
          "criminals",
          "billion",
          "net",
          "optimism",
          "officials",
          "bitcoin",
          "mid",
          "means",
          "blame",
          "battery",
          "shipping",
          "bear",
          "monitoring",
          "sold",
          "stay",
          "solutions",
          "space",
          "additional",
          "speed",
          "spend",
          "square",
          "activity",
          "survive",
          "starting",
          "step",
          "low",
          "suggest",
          "suggesting",
          "summary",
          "super",
          "supply",
          "paying",
          "critical",
          "biden",
          "online",
          "public",
          "millions",
          "services",
          "el",
          "despite",
          "imo",
          "gaining",
          "changing",
          "couldn",
          "house",
          "history",
          "cause",
          "holding",
          "home",
          "insane",
          "honestly",
          "information",
          "equities",
          "eod",
          "ending",
          "interested",
          "em",
          "election",
          "individual",
          "indicators",
          "kinda",
          "crypto",
          "customer",
          "finra",
          "agree",
          "fine",
          "large",
          "breaking",
          "fun",
          "corn",
          "generally",
          "clearly",
          "direction",
          "dictatorship",
          "closely",
          "cool",
          "crude",
          "god",
          "follow",
          "leader",
          "bro",
          "friday",
          "depends",
          "conversely",
          "dead",
          "kings",
          "indication",
          "ceo",
          "currency",
          "deep",
          "00",
          "living",
          "pause",
          "pushing",
          "argument",
          "rate",
          "ready",
          "recommendations",
          "relevant",
          "remove",
          "retail",
          "amzn",
          "rising",
          "amazon",
          "russia",
          "says",
          "school",
          "elected",
          "second",
          "center",
          "rule",
          "hell",
          "combined",
          "dump",
          "health",
          "dumbass",
          "comment",
          "fell",
          "consumer",
          "guess",
          "donald",
          "federal",
          "felt",
          "jail",
          "crashing",
          "having",
          "fact",
          "happy",
          "factors",
          "indicates",
          "businesses",
          "hasn",
          "chain",
          "sides",
          "shows",
          "sorry",
          "mining",
          "fake",
          "missing",
          "isnt",
          "smaller",
          "pass",
          "modernizing",
          "forever",
          "fan",
          "slave",
          "sitting",
          "site",
          "single",
          "forget",
          "moment",
          "favorite",
          "gm",
          "sec",
          "realize",
          "screwed",
          "finance",
          "results",
          "general",
          "restaurants",
          "genius",
          "germany",
          "respond",
          "repurchase",
          "replaced",
          "global",
          "near",
          "goal",
          "nearly",
          "related",
          "receiving",
          "gave",
          "isms",
          "plans",
          "ipilimumab",
          "imports",
          "impact",
          "hkd",
          "hodl",
          "personally",
          "held",
          "personal",
          "options",
          "perfect",
          "hopefully",
          "hour",
          "peoples",
          "peace",
          "huge",
          "orders",
          "hyperinflation",
          "pay",
          "riot",
          "hive",
          "plays",
          "shift",
          "improvement",
          "shaun",
          "set",
          "firms",
          "flat",
          "service",
          "ford",
          "selloff",
          "moon",
          "sideways",
          "jan",
          "gone",
          "rational",
          "ongoing",
          "independent",
          "helps",
          "increases",
          "policies",
          "liz",
          "announced",
          "fxaix",
          "consequences",
          "absolutely",
          "bring",
          "116",
          "black",
          "auto",
          "control",
          "adjust",
          "close",
          "capable",
          "casino",
          "attention",
          "cares",
          "bankrupt",
          "allows",
          "idiots",
          "banned",
          "18630",
          "chasing",
          "250",
          "80",
          "bunch",
          "chicks",
          "aapl",
          "35",
          "backed",
          "cheap",
          "combination",
          "analyst",
          "comments",
          "chess",
          "asml",
          "buyers",
          "boating",
          "chargers",
          "appreciated",
          "boliviana",
          "23",
          "common",
          "adding",
          "case",
          "nations",
          "cancellations",
          "costco",
          "acquisition",
          "corrupt",
          "aren",
          "campaign",
          "issue",
          "retards",
          "mph",
          "saving",
          "mr",
          "run",
          "nation",
          "rooting",
          "room",
          "funny",
          "furniture",
          "internet",
          "contracts",
          "cot",
          "clear",
          "acn",
          "allowed",
          "actionable",
          "article",
          "almasria",
          "brother",
          "aerocontractors",
          "bp",
          "court",
          "aviación",
          "comparison",
          "cents",
          "advisors",
          "course",
          "brazil",
          "affect",
          "brazilian",
          "air",
          "partners",
          "circle",
          "im",
          "watchlist",
          "party",
          "thesis",
          "effect",
          "supreme",
          "supported",
          "executive",
          "known",
          "supplier",
          "manipulation",
          "kiss",
          "marine",
          "double",
          "marketing",
          "exact",
          "steal",
          "suffer",
          "metals",
          "largest",
          "damage",
          "states",
          "damn",
          "winning",
          "willing",
          "wife",
          "cycle",
          "wendy",
          "decision",
          "decide",
          "voters",
          "lying",
          "lesson",
          "warrant",
          "tired",
          "watching",
          "weaker",
          "wealth",
          "date",
          "wednesday",
          "successful",
          "study",
          "words",
          "tends",
          "technologies",
          "edge",
          "tank",
          "dumping",
          "eating",
          "spent",
          "economist",
          "military",
          "sw",
          "land",
          "eu",
          "easy",
          "tactics",
          "takes",
          "expensive",
          "explain",
          "passed",
          "telling",
          "mango",
          "stronger",
          "drops",
          "straight",
          "essentially",
          "stations",
          "stick",
          "matters",
          "ethiopian",
          "european",
          "joke",
          "jerome",
          "edit",
          "manipulating",
          "downtrend",
          "drinking",
          "extremely",
          "drive",
          "driving",
          "terrible",
          "lie",
          "exports",
          "currencies",
          "prove",
          "nonsense",
          "normal",
          "haha",
          "handle",
          "hands",
          "production",
          "process",
          "numbers",
          "previous",
          "pressure",
          "industries",
          "premarket",
          "harder",
          "protect",
          "factory",
          "slv",
          "ton",
          "program",
          "posts",
          "unexpected",
          "providing",
          "performance",
          "looked",
          "reaction",
          "positions",
          "newsletter",
          "google",
          "rapidly",
          "rally",
          "raise",
          "quite",
          "quickly",
          "quick",
          "grocery",
          "growing",
          "quarterly",
          "nivolumab",
          "info",
          "value",
          "praising",
          "turns",
          "took",
          "specific",
          "told",
          "tldr",
          "later",
          "manage",
          "main",
          "machine",
          "vehicle",
          "vision",
          "crox",
          "limited"
         ],
         "xaxis": "x",
         "y": {
          "bdata": "jbMJK77fEkD4pAd+5EESQHDW88JhIRJA1GX2CSi5EUDmLyIzbikRQKs8Imgoww9ASamuqiWcD0BJqa6qJZwPQP8AUf9gdA9AtvCQLxrNDkC28JAvGs0OQA1yMjvTgg1Avcc67ijjDEC9xzruKOMMQL3HOu4o4wxAAiAq+gurDEDF8w9TWnEMQNG41fTY+AtAWiuRSM54C0BaK5FIzngLQJvWC/mmNQtAm9YL+aY1C0Af/s3LOPAKQCNKltZaqApAI0qW1lqoCkCQhAO4310KQJCEA7jfXQpAkIQDuN9dCkDNGvDqlBAKQM0a8OqUEApAM43t90HACUAzje33QcAJQDON7fdBwAlAM43t90HACUAzje33QcAJQPksknynbAlA+SySfKdsCUD5LJJ8p2wJQPCz0f19FQlA8LPR/X0VCUDws9H9fRUJQPCz0f19FQlA8LPR/X0VCUDIxT13dLoIQMjFPXd0ughAyMU9d3S6CEDIxT13dLoIQLGub5QuWwhAsa5vlC5bCECxrm+ULlsIQLGub5QuWwhAkeNze0L3B0CR43N7QvcHQJHjc3tC9wdAkeNze0L3B0AsswQGNo4HQCyzBAY2jgdALLMEBjaOB0AsswQGNo4HQCyzBAY2jgdALLMEBjaOB0AsswQGNo4HQCyzBAY2jgdALLMEBjaOB0AsswQGNo4HQIaRazp7HwdAhpFrOnsfB0CGkWs6ex8HQIaRazp7HwdAhpFrOnsfB0B6f/rBa6oGQHp/+sFrqgZAen/6wWuqBkB6f/rBa6oGQHp/+sFrqgZAen/6wWuqBkB6f/rBa6oGQHp/+sFrqgZAen/6wWuqBkB6f/rBa6oGQHp/+sFrqgZA7zn6/kIuBkDvOfr+Qi4GQO85+v5CLgZA7zn6/kIuBkDvOfr+Qi4GQO85+v5CLgZA7zn6/kIuBkDvOfr+Qi4GQO85+v5CLgZA7zn6/kIuBkAfSE05FqoFQB9ITTkWqgVAH0hNORaqBUAfSE05FqoFQB9ITTkWqgVAH0hNORaqBUAfSE05FqoFQKe71xbKHAVAp7vXFsocBUCnu9cWyhwFQKe71xbKHAVAp7vXFsocBUCnu9cWyhwFQKe71xbKHAVAp7vXFsocBUCnu9cWyhwFQKe71xbKHAVAp7vXFsocBUBRjDErBIUEQFGMMSsEhQRAUYwxKwSFBEBRjDErBIUEQFGMMSsEhQRAUYwxKwSFBEBRjDErBIUEQFGMMSsEhQRAUYwxKwSFBEBRjDErBIUEQFGMMSsEhQRAUYwxKwSFBEBRjDErBIUEQFGMMSsEhQRAUYwxKwSFBEBRjDErBIUEQFGMMSsEhQRAUYwxKwSFBEBRjDErBIUEQFGMMSsEhQRAUYwxKwSFBEB9ntO8FuEDQH2e07wW4QNAfZ7TvBbhA0B9ntO8FuEDQH2e07wW4QNAfZ7TvBbhA0B9ntO8FuEDQH2e07wW4QNAfZ7TvBbhA0B9ntO8FuEDQH2e07wW4QNAfZ7TvBbhA0B9ntO8FuEDQH2e07wW4QNAfZ7TvBbhA0B9ntO8FuEDQH2e07wW4QNAfZ7TvBbhA0B9ntO8FuEDQH2e07wW4QNAfZ7TvBbhA0B9ntO8FuEDQH2e07wW4QNATDd/t+MuA0BMN3+34y4DQEw3f7fjLgNATDd/t+MuA0BMN3+34y4DQEw3f7fjLgNATDd/t+MuA0BMN3+34y4DQEw3f7fjLgNATDd/t+MuA0BMN3+34y4DQEw3f7fjLgNATDd/t+MuA0BMN3+34y4DQEw3f7fjLgNATDd/t+MuA0BMN3+34y4DQEw3f7fjLgNATDd/t+MuA0BMN3+34y4DQBZVtbuxawJAFlW1u7FrAkAWVbW7sWsCQBZVtbuxawJAFlW1u7FrAkAWVbW7sWsCQBZVtbuxawJAFlW1u7FrAkAWVbW7sWsCQBZVtbuxawJAFlW1u7FrAkAWVbW7sWsCQBZVtbuxawJAFlW1u7FrAkAWVbW7sWsCQBZVtbuxawJAFlW1u7FrAkAWVbW7sWsCQBZVtbuxawJAFlW1u7FrAkAWVbW7sWsCQBZVtbuxawJAFlW1u7FrAkAWVbW7sWsCQBZVtbuxawJAFlW1u7FrAkAWVbW7sWsCQBZVtbuxawJAFlW1u7FrAkAWVbW7sWsCQBZVtbuxawJAFlW1u7FrAkALA6166pMBQAsDrXrqkwFACwOteuqTAUALA6166pMBQAsDrXrqkwFACwOteuqTAUALA6166pMBQAsDrXrqkwFACwOteuqTAUALA6166pMBQAsDrXrqkwFACwOteuqTAUALA6166pMBQAsDrXrqkwFACwOteuqTAUALA6166pMBQAsDrXrqkwFACwOteuqTAUALA6166pMBQAsDrXrqkwFACwOteuqTAUALA6166pMBQAsDrXrqkwFACwOteuqTAUALA6166pMBQAsDrXrqkwFACwOteuqTAUALA6166pMBQAsDrXrqkwFACwOteuqTAUALA6166pMBQAsDrXrqkwFACwOteuqTAUALA6166pMBQAsDrXrqkwFACwOteuqTAUALA6166pMBQAsDrXrqkwFACwOteuqTAUALA6166pMBQAsDrXrqkwFACwOteuqTAUALA6166pMBQAsDrXrqkwFACwOteuqTAUALA6166pMBQAsDrXrqkwFACwOteuqTAUALA6166pMBQAsDrXrqkwFAc6s7P7KiAEBzqzs/sqIAQHOrOz+yogBAc6s7P7KiAEBzqzs/sqIAQHOrOz+yogBAc6s7P7KiAEBzqzs/sqIAQHOrOz+yogBAc6s7P7KiAEBzqzs/sqIAQHOrOz+yogBAc6s7P7KiAEBzqzs/sqIAQHOrOz+yogBAc6s7P7KiAEBzqzs/sqIAQHOrOz+yogBAc6s7P7KiAEBzqzs/sqIAQHOrOz+yogBAc6s7P7KiAEBzqzs/sqIAQHOrOz+yogBAc6s7P7KiAEBzqzs/sqIAQHOrOz+yogBAc6s7P7KiAEBzqzs/sqIAQHOrOz+yogBAc6s7P7KiAEBzqzs/sqIAQHOrOz+yogBAc6s7P7KiAEBzqzs/sqIAQHOrOz+yogBAc6s7P7KiAEBzqzs/sqIAQHOrOz+yogBAc6s7P7KiAEBzqzs/sqIAQHOrOz+yogBAc6s7P7KiAEBzqzs/sqIAQHOrOz+yogBAc6s7P7KiAEBzqzs/sqIAQHOrOz+yogBAc6s7P7KiAEBzqzs/sqIAQHOrOz+yogBAc6s7P7KiAEBzqzs/sqIAQHOrOz+yogBAc6s7P7KiAEBzqzs/sqIAQHOrOz+yogBAc6s7P7KiAEBzqzs/sqIAQHOrOz+yogBAc6s7P7KiAEBzqzs/sqIAQHOrOz+yogBAc6s7P7KiAEBzqzs/sqIAQHOrOz+yogBAc6s7P7KiAEBzqzs/sqIAQHOrOz+yogBAV1oyrnIi/z9XWjKuciL/P1daMq5yIv8/V1oyrnIi/z9XWjKuciL/P1daMq5yIv8/V1oyrnIi/z9XWjKuciL/P1daMq5yIv8/V1oyrnIi/z9XWjKuciL/P1daMq5yIv8/V1oyrnIi/z9XWjKuciL/P1daMq5yIv8/V1oyrnIi/z9XWjKuciL/P1daMq5yIv8/V1oyrnIi/z9XWjKuciL/P1daMq5yIv8/V1oyrnIi/z9XWjKuciL/P1daMq5yIv8/V1oyrnIi/z9XWjKuciL/P1daMq5yIv8/V1oyrnIi/z9XWjKuciL/P1daMq5yIv8/V1oyrnIi/z9XWjKuciL/P1daMq5yIv8/V1oyrnIi/z9XWjKuciL/P1daMq5yIv8/V1oyrnIi/z9XWjKuciL/P1daMq5yIv8/V1oyrnIi/z9XWjKuciL/P1daMq5yIv8/V1oyrnIi/z9XWjKuciL/P1daMq5yIv8/V1oyrnIi/z9XWjKuciL/P1daMq5yIv8/V1oyrnIi/z9XWjKuciL/P1daMq5yIv8/V1oyrnIi/z9XWjKuciL/P1daMq5yIv8/V1oyrnIi/z9XWjKuciL/P1daMq5yIv8/V1oyrnIi/z9XWjKuciL/P1daMq5yIv8/V1oyrnIi/z9XWjKuciL/P1daMq5yIv8/V1oyrnIi/z9XWjKuciL/P1daMq5yIv8/V1oyrnIi/z9XWjKuciL/P1daMq5yIv8/V1oyrnIi/z9XWjKuciL/P1daMq5yIv8/V1oyrnIi/z9XWjKuciL/P1daMq5yIv8/V1oyrnIi/z8CICr6C6v8PwIgKvoLq/w/AiAq+gur/D8CICr6C6v8PwIgKvoLq/w/AiAq+gur/D8CICr6C6v8PwIgKvoLq/w/AiAq+gur/D8CICr6C6v8PwIgKvoLq/w/AiAq+gur/D8CICr6C6v8PwIgKvoLq/w/AiAq+gur/D8CICr6C6v8PwIgKvoLq/w/AiAq+gur/D8CICr6C6v8PwIgKvoLq/w/AiAq+gur/D8CICr6C6v8PwIgKvoLq/w/AiAq+gur/D8CICr6C6v8PwIgKvoLq/w/AiAq+gur/D8CICr6C6v8PwIgKvoLq/w/AiAq+gur/D8CICr6C6v8PwIgKvoLq/w/AiAq+gur/D8CICr6C6v8PwIgKvoLq/w/AiAq+gur/D8CICr6C6v8PwIgKvoLq/w/AiAq+gur/D8CICr6C6v8PwIgKvoLq/w/AiAq+gur/D8CICr6C6v8PwIgKvoLq/w/AiAq+gur/D8CICr6C6v8PwIgKvoLq/w/AiAq+gur/D8CICr6C6v8PwIgKvoLq/w/AiAq+gur/D8CICr6C6v8PwIgKvoLq/w/AiAq+gur/D8CICr6C6v8PwIgKvoLq/w/AiAq+gur/D8CICr6C6v8PwIgKvoLq/w/AiAq+gur/D8CICr6C6v8PwIgKvoLq/w/AiAq+gur/D8CICr6C6v8PwIgKvoLq/w/AiAq+gur/D8CICr6C6v8PwIgKvoLq/w/AiAq+gur/D8CICr6C6v8PwIgKvoLq/w/AiAq+gur/D8CICr6C6v8PwIgKvoLq/w/AiAq+gur/D8CICr6C6v8PwIgKvoLq/w/AiAq+gur/D8CICr6C6v8PwIgKvoLq/w/AiAq+gur/D8CICr6C6v8PwIgKvoLq/w/AiAq+gur/D8CICr6C6v8PwIgKvoLq/w/AiAq+gur/D8CICr6C6v8PwIgKvoLq/w/AiAq+gur/D8CICr6C6v8PwIgKvoLq/w/AiAq+gur/D8CICr6C6v8PwIgKvoLq/w/AiAq+gur/D8CICr6C6v8PwIgKvoLq/w/AiAq+gur/D8CICr6C6v8PwIgKvoLq/w/AiAq+gur/D8zje33QcD5PzON7fdBwPk/M43t90HA+T8zje33QcD5PzON7fdBwPk/M43t90HA+T8zje33QcD5PzON7fdBwPk/M43t90HA+T8zje33QcD5PzON7fdBwPk/M43t90HA+T8zje33QcD5PzON7fdBwPk/M43t90HA+T8zje33QcD5PzON7fdBwPk/M43t90HA+T8zje33QcD5PzON7fdBwPk/M43t90HA+T8zje33QcD5PzON7fdBwPk/M43t90HA+T8zje33QcD5PzON7fdBwPk/M43t90HA+T8zje33QcD5PzON7fdBwPk/M43t90HA+T8zje33QcD5PzON7fdBwPk/M43t90HA+T8zje33QcD5PzON7fdBwPk/M43t90HA+T8zje33QcD5PzON7fdBwPk/M43t90HA+T8zje33QcD5PzON7fdBwPk/M43t90HA+T8zje33QcD5PzON7fdBwPk/M43t90HA+T8zje33QcD5PzON7fdBwPk/M43t90HA+T8zje33QcD5PzON7fdBwPk/M43t90HA+T8zje33QcD5PzON7fdBwPk/M43t90HA+T8zje33QcD5PzON7fdBwPk/M43t90HA+T8zje33QcD5PzON7fdBwPk/M43t90HA+T8zje33QcD5PzON7fdBwPk/M43t90HA+T8zje33QcD5PzON7fdBwPk/M43t90HA+T8zje33QcD5PzON7fdBwPk/M43t90HA+T8zje33QcD5PzON7fdBwPk/M43t90HA+T8zje33QcD5PzON7fdBwPk/M43t90HA+T8zje33QcD5PzON7fdBwPk/M43t90HA+T8zje33QcD5PzON7fdBwPk/M43t90HA+T8zje33QcD5PzON7fdBwPk/M43t90HA+T8zje33QcD5PzON7fdBwPk/M43t90HA+T8zje33QcD5PzON7fdBwPk/M43t90HA+T8zje33QcD5PzON7fdBwPk/M43t90HA+T8zje33QcD5PzON7fdBwPk/M43t90HA+T8zje33QcD5PzON7fdBwPk/M43t90HA+T8zje33QcD5PzON7fdBwPk/M43t90HA+T8zje33QcD5PzON7fdBwPk/M43t90HA+T8zje33QcD5PzON7fdBwPk/M43t90HA+T8zje33QcD5PzON7fdBwPk/M43t90HA+T8zje33QcD5PzON7fdBwPk/M43t90HA+T8zje33QcD5PzON7fdBwPk/M43t90HA+T8zje33QcD5PzON7fdBwPk/M43t90HA+T8zje33QcD5PzON7fdBwPk/M43t90HA+T8zje33QcD5PzON7fdBwPk/M43t90HA+T8zje33QcD5PzON7fdBwPk/M43t90HA+T8zje33QcD5PzON7fdBwPk/M43t90HA+T8zje33QcD5PzON7fdBwPk/M43t90HA+T8zje33QcD5PzON7fdBwPk/M43t90HA+T8zje33QcD5PzON7fdBwPk/M43t90HA+T8zje33QcD5PzON7fdBwPk/M43t90HA+T8zje33QcD5PzON7fdBwPk/M43t90HA+T8zje33QcD5PzON7fdBwPk/M43t90HA+T8zje33QcD5PzON7fdBwPk/M43t90HA+T8zje33QcD5PzON7fdBwPk/M43t90HA+T8zje33QcD5PzON7fdBwPk/M43t90HA+T8zje33QcD5PzON7fdBwPk/M43t90HA+T8zje33QcD5PzON7fdBwPk/M43t90HA+T8zje33QcD5PzON7fdBwPk/M43t90HA+T8zje33QcD5PzON7fdBwPk/M43t90HA+T8zje33QcD5PzON7fdBwPk/M43t90HA+T8zje33QcD5PzON7fdBwPk/M43t90HA+T8zje33QcD5PzON7fdBwPk/M43t90HA+T8zje33QcD5PzON7fdBwPk/M43t90HA+T8zje33QcD5PzON7fdBwPk/M43t90HA+T8zje33QcD5PzON7fdBwPk/M43t90HA+T8zje33QcD5PzON7fdBwPk/M43t90HA+T/vOfr+Qi72P+85+v5CLvY/7zn6/kIu9j/vOfr+Qi72P+85+v5CLvY/7zn6/kIu9j/vOfr+Qi72P+85+v5CLvY/7zn6/kIu9j/vOfr+Qi72P+85+v5CLvY/7zn6/kIu9j/vOfr+Qi72P+85+v5CLvY/7zn6/kIu9j/vOfr+Qi72P+85+v5CLvY/7zn6/kIu9j/vOfr+Qi72P+85+v5CLvY/7zn6/kIu9j/vOfr+Qi72P+85+v5CLvY/7zn6/kIu9j/vOfr+Qi72P+85+v5CLvY/7zn6/kIu9j/vOfr+Qi72P+85+v5CLvY/7zn6/kIu9j/vOfr+Qi72P+85+v5CLvY/7zn6/kIu9j/vOfr+Qi72P+85+v5CLvY/7zn6/kIu9j/vOfr+Qi72P+85+v5CLvY/7zn6/kIu9j/vOfr+Qi72P+85+v5CLvY/7zn6/kIu9j/vOfr+Qi72P+85+v5CLvY/7zn6/kIu9j/vOfr+Qi72P+85+v5CLvY/7zn6/kIu9j/vOfr+Qi72P+85+v5CLvY/7zn6/kIu9j/vOfr+Qi72P+85+v5CLvY/7zn6/kIu9j/vOfr+Qi72P+85+v5CLvY/7zn6/kIu9j/vOfr+Qi72P+85+v5CLvY/7zn6/kIu9j/vOfr+Qi72P+85+v5CLvY/7zn6/kIu9j/vOfr+Qi72P+85+v5CLvY/7zn6/kIu9j/vOfr+Qi72P+85+v5CLvY/7zn6/kIu9j/vOfr+Qi72P+85+v5CLvY/7zn6/kIu9j/vOfr+Qi72P+85+v5CLvY/7zn6/kIu9j/vOfr+Qi72P+85+v5CLvY/7zn6/kIu9j/vOfr+Qi72P+85+v5CLvY/7zn6/kIu9j/vOfr+Qi72P+85+v5CLvY/7zn6/kIu9j/vOfr+Qi72P+85+v5CLvY/7zn6/kIu9j/vOfr+Qi72P+85+v5CLvY/7zn6/kIu9j/vOfr+Qi72P+85+v5CLvY/7zn6/kIu9j/vOfr+Qi72P+85+v5CLvY/7zn6/kIu9j/vOfr+Qi72P+85+v5CLvY/7zn6/kIu9j/vOfr+Qi72P+85+v5CLvY/7zn6/kIu9j/vOfr+Qi72P+85+v5CLvY/7zn6/kIu9j/vOfr+Qi72P+85+v5CLvY/7zn6/kIu9j/vOfr+Qi72P+85+v5CLvY/7zn6/kIu9j/vOfr+Qi72P+85+v5CLvY/7zn6/kIu9j/vOfr+Qi72P+85+v5CLvY/7zn6/kIu9j/vOfr+Qi72P+85+v5CLvY/7zn6/kIu9j/vOfr+Qi72P+85+v5CLvY/7zn6/kIu9j/vOfr+Qi72P+85+v5CLvY/7zn6/kIu9j/vOfr+Qi72P+85+v5CLvY/7zn6/kIu9j/vOfr+Qi72P+85+v5CLvY/7zn6/kIu9j/vOfr+Qi72P+85+v5CLvY/7zn6/kIu9j/vOfr+Qi72P+85+v5CLvY/7zn6/kIu9j/vOfr+Qi72P+85+v5CLvY/7zn6/kIu9j/vOfr+Qi72P+85+v5CLvY/7zn6/kIu9j/vOfr+Qi72P+85+v5CLvY/7zn6/kIu9j/vOfr+Qi72P+85+v5CLvY/7zn6/kIu9j/vOfr+Qi72P+85+v5CLvY/7zn6/kIu9j/vOfr+Qi72P+85+v5CLvY/7zn6/kIu9j/vOfr+Qi72P+85+v5CLvY/7zn6/kIu9j/vOfr+Qi72P+85+v5CLvY/7zn6/kIu9j/vOfr+Qi72P+85+v5CLvY/7zn6/kIu9j/vOfr+Qi72P+85+v5CLvY/7zn6/kIu9j/vOfr+Qi72P+85+v5CLvY/7zn6/kIu9j/vOfr+Qi72P+85+v5CLvY/7zn6/kIu9j/vOfr+Qi72P+85+v5CLvY/7zn6/kIu9j/vOfr+Qi72P+85+v5CLvY/7zn6/kIu9j/vOfr+Qi72P+85+v5CLvY/7zn6/kIu9j/vOfr+Qi72P+85+v5CLvY/7zn6/kIu9j/vOfr+Qi72P+85+v5CLvY/7zn6/kIu9j/vOfr+Qi72P+85+v5CLvY/7zn6/kIu9j/vOfr+Qi72P+85+v5CLvY/7zn6/kIu9j/vOfr+Qi72P+85+v5CLvY/7zn6/kIu9j/vOfr+Qi72P+85+v5CLvY/7zn6/kIu9j/vOfr+Qi72P+85+v5CLvY/7zn6/kIu9j/vOfr+Qi72P+85+v5CLvY/7zn6/kIu9j/vOfr+Qi72P+85+v5CLvY/7zn6/kIu9j/vOfr+Qi72P+85+v5CLvY/7zn6/kIu9j/vOfr+Qi72P+85+v5CLvY/7zn6/kIu9j/vOfr+Qi72P+85+v5CLvY/7zn6/kIu9j/vOfr+Qi72P+85+v5CLvY/7zn6/kIu9j/vOfr+Qi72P+85+v5CLvY/7zn6/kIu9j/vOfr+Qi72P+85+v5CLvY/7zn6/kIu9j/vOfr+Qi72P+85+v5CLvY/7zn6/kIu9j/vOfr+Qi72P+85+v5CLvY/7zn6/kIu9j/vOfr+Qi72P+85+v5CLvY/7zn6/kIu9j/vOfr+Qi72P+85+v5CLvY/7zn6/kIu9j/vOfr+Qi72P+85+v5CLvY/7zn6/kIu9j/vOfr+Qi72P+85+v5CLvY/7zn6/kIu9j/vOfr+Qi72P+85+v5CLvY/7zn6/kIu9j/vOfr+Qi72P+85+v5CLvY/7zn6/kIu9j/vOfr+Qi72P+85+v5CLvY/7zn6/kIu9j/vOfr+Qi72P+85+v5CLvY/7zn6/kIu9j/vOfr+Qi72P+85+v5CLvY/7zn6/kIu9j/vOfr+Qi72P+85+v5CLvY/7zn6/kIu9j/vOfr+Qi72P+85+v5CLvY/7zn6/kIu9j/vOfr+Qi72P+85+v5CLvY/7zn6/kIu9j/vOfr+Qi72P+85+v5CLvY/7zn6/kIu9j/vOfr+Qi72P+85+v5CLvY/7zn6/kIu9j/vOfr+Qi72P+85+v5CLvY/7zn6/kIu9j/vOfr+Qi72P+85+v5CLvY/7zn6/kIu9j/vOfr+Qi72P+85+v5CLvY/7zn6/kIu9j/vOfr+Qi72P+85+v5CLvY/7zn6/kIu9j/vOfr+Qi72P+85+v5CLvY/7zn6/kIu9j/vOfr+Qi72P+85+v5CLvY/7zn6/kIu9j/vOfr+Qi72P+85+v5CLvY/7zn6/kIu9j/vOfr+Qi72P+85+v5CLvY/7zn6/kIu9j/vOfr+Qi72P+85+v5CLvY/7zn6/kIu9j/vOfr+Qi72P+85+v5CLvY/7zn6/kIu9j8=",
          "dtype": "f8"
         },
         "yaxis": "y"
        }
       ],
       "layout": {
        "barmode": "relative",
        "legend": {
         "tracegroupgap": 0
        },
        "template": {
         "data": {
          "bar": [
           {
            "error_x": {
             "color": "#2a3f5f"
            },
            "error_y": {
             "color": "#2a3f5f"
            },
            "marker": {
             "line": {
              "color": "#E5ECF6",
              "width": 0.5
             },
             "pattern": {
              "fillmode": "overlay",
              "size": 10,
              "solidity": 0.2
             }
            },
            "type": "bar"
           }
          ],
          "barpolar": [
           {
            "marker": {
             "line": {
              "color": "#E5ECF6",
              "width": 0.5
             },
             "pattern": {
              "fillmode": "overlay",
              "size": 10,
              "solidity": 0.2
             }
            },
            "type": "barpolar"
           }
          ],
          "carpet": [
           {
            "aaxis": {
             "endlinecolor": "#2a3f5f",
             "gridcolor": "white",
             "linecolor": "white",
             "minorgridcolor": "white",
             "startlinecolor": "#2a3f5f"
            },
            "baxis": {
             "endlinecolor": "#2a3f5f",
             "gridcolor": "white",
             "linecolor": "white",
             "minorgridcolor": "white",
             "startlinecolor": "#2a3f5f"
            },
            "type": "carpet"
           }
          ],
          "choropleth": [
           {
            "colorbar": {
             "outlinewidth": 0,
             "ticks": ""
            },
            "type": "choropleth"
           }
          ],
          "contour": [
           {
            "colorbar": {
             "outlinewidth": 0,
             "ticks": ""
            },
            "colorscale": [
             [
              0,
              "#0d0887"
             ],
             [
              0.1111111111111111,
              "#46039f"
             ],
             [
              0.2222222222222222,
              "#7201a8"
             ],
             [
              0.3333333333333333,
              "#9c179e"
             ],
             [
              0.4444444444444444,
              "#bd3786"
             ],
             [
              0.5555555555555556,
              "#d8576b"
             ],
             [
              0.6666666666666666,
              "#ed7953"
             ],
             [
              0.7777777777777778,
              "#fb9f3a"
             ],
             [
              0.8888888888888888,
              "#fdca26"
             ],
             [
              1,
              "#f0f921"
             ]
            ],
            "type": "contour"
           }
          ],
          "contourcarpet": [
           {
            "colorbar": {
             "outlinewidth": 0,
             "ticks": ""
            },
            "type": "contourcarpet"
           }
          ],
          "heatmap": [
           {
            "colorbar": {
             "outlinewidth": 0,
             "ticks": ""
            },
            "colorscale": [
             [
              0,
              "#0d0887"
             ],
             [
              0.1111111111111111,
              "#46039f"
             ],
             [
              0.2222222222222222,
              "#7201a8"
             ],
             [
              0.3333333333333333,
              "#9c179e"
             ],
             [
              0.4444444444444444,
              "#bd3786"
             ],
             [
              0.5555555555555556,
              "#d8576b"
             ],
             [
              0.6666666666666666,
              "#ed7953"
             ],
             [
              0.7777777777777778,
              "#fb9f3a"
             ],
             [
              0.8888888888888888,
              "#fdca26"
             ],
             [
              1,
              "#f0f921"
             ]
            ],
            "type": "heatmap"
           }
          ],
          "histogram": [
           {
            "marker": {
             "pattern": {
              "fillmode": "overlay",
              "size": 10,
              "solidity": 0.2
             }
            },
            "type": "histogram"
           }
          ],
          "histogram2d": [
           {
            "colorbar": {
             "outlinewidth": 0,
             "ticks": ""
            },
            "colorscale": [
             [
              0,
              "#0d0887"
             ],
             [
              0.1111111111111111,
              "#46039f"
             ],
             [
              0.2222222222222222,
              "#7201a8"
             ],
             [
              0.3333333333333333,
              "#9c179e"
             ],
             [
              0.4444444444444444,
              "#bd3786"
             ],
             [
              0.5555555555555556,
              "#d8576b"
             ],
             [
              0.6666666666666666,
              "#ed7953"
             ],
             [
              0.7777777777777778,
              "#fb9f3a"
             ],
             [
              0.8888888888888888,
              "#fdca26"
             ],
             [
              1,
              "#f0f921"
             ]
            ],
            "type": "histogram2d"
           }
          ],
          "histogram2dcontour": [
           {
            "colorbar": {
             "outlinewidth": 0,
             "ticks": ""
            },
            "colorscale": [
             [
              0,
              "#0d0887"
             ],
             [
              0.1111111111111111,
              "#46039f"
             ],
             [
              0.2222222222222222,
              "#7201a8"
             ],
             [
              0.3333333333333333,
              "#9c179e"
             ],
             [
              0.4444444444444444,
              "#bd3786"
             ],
             [
              0.5555555555555556,
              "#d8576b"
             ],
             [
              0.6666666666666666,
              "#ed7953"
             ],
             [
              0.7777777777777778,
              "#fb9f3a"
             ],
             [
              0.8888888888888888,
              "#fdca26"
             ],
             [
              1,
              "#f0f921"
             ]
            ],
            "type": "histogram2dcontour"
           }
          ],
          "mesh3d": [
           {
            "colorbar": {
             "outlinewidth": 0,
             "ticks": ""
            },
            "type": "mesh3d"
           }
          ],
          "parcoords": [
           {
            "line": {
             "colorbar": {
              "outlinewidth": 0,
              "ticks": ""
             }
            },
            "type": "parcoords"
           }
          ],
          "pie": [
           {
            "automargin": true,
            "type": "pie"
           }
          ],
          "scatter": [
           {
            "fillpattern": {
             "fillmode": "overlay",
             "size": 10,
             "solidity": 0.2
            },
            "type": "scatter"
           }
          ],
          "scatter3d": [
           {
            "line": {
             "colorbar": {
              "outlinewidth": 0,
              "ticks": ""
             }
            },
            "marker": {
             "colorbar": {
              "outlinewidth": 0,
              "ticks": ""
             }
            },
            "type": "scatter3d"
           }
          ],
          "scattercarpet": [
           {
            "marker": {
             "colorbar": {
              "outlinewidth": 0,
              "ticks": ""
             }
            },
            "type": "scattercarpet"
           }
          ],
          "scattergeo": [
           {
            "marker": {
             "colorbar": {
              "outlinewidth": 0,
              "ticks": ""
             }
            },
            "type": "scattergeo"
           }
          ],
          "scattergl": [
           {
            "marker": {
             "colorbar": {
              "outlinewidth": 0,
              "ticks": ""
             }
            },
            "type": "scattergl"
           }
          ],
          "scattermap": [
           {
            "marker": {
             "colorbar": {
              "outlinewidth": 0,
              "ticks": ""
             }
            },
            "type": "scattermap"
           }
          ],
          "scattermapbox": [
           {
            "marker": {
             "colorbar": {
              "outlinewidth": 0,
              "ticks": ""
             }
            },
            "type": "scattermapbox"
           }
          ],
          "scatterpolar": [
           {
            "marker": {
             "colorbar": {
              "outlinewidth": 0,
              "ticks": ""
             }
            },
            "type": "scatterpolar"
           }
          ],
          "scatterpolargl": [
           {
            "marker": {
             "colorbar": {
              "outlinewidth": 0,
              "ticks": ""
             }
            },
            "type": "scatterpolargl"
           }
          ],
          "scatterternary": [
           {
            "marker": {
             "colorbar": {
              "outlinewidth": 0,
              "ticks": ""
             }
            },
            "type": "scatterternary"
           }
          ],
          "surface": [
           {
            "colorbar": {
             "outlinewidth": 0,
             "ticks": ""
            },
            "colorscale": [
             [
              0,
              "#0d0887"
             ],
             [
              0.1111111111111111,
              "#46039f"
             ],
             [
              0.2222222222222222,
              "#7201a8"
             ],
             [
              0.3333333333333333,
              "#9c179e"
             ],
             [
              0.4444444444444444,
              "#bd3786"
             ],
             [
              0.5555555555555556,
              "#d8576b"
             ],
             [
              0.6666666666666666,
              "#ed7953"
             ],
             [
              0.7777777777777778,
              "#fb9f3a"
             ],
             [
              0.8888888888888888,
              "#fdca26"
             ],
             [
              1,
              "#f0f921"
             ]
            ],
            "type": "surface"
           }
          ],
          "table": [
           {
            "cells": {
             "fill": {
              "color": "#EBF0F8"
             },
             "line": {
              "color": "white"
             }
            },
            "header": {
             "fill": {
              "color": "#C8D4E3"
             },
             "line": {
              "color": "white"
             }
            },
            "type": "table"
           }
          ]
         },
         "layout": {
          "annotationdefaults": {
           "arrowcolor": "#2a3f5f",
           "arrowhead": 0,
           "arrowwidth": 1
          },
          "autotypenumbers": "strict",
          "coloraxis": {
           "colorbar": {
            "outlinewidth": 0,
            "ticks": ""
           }
          },
          "colorscale": {
           "diverging": [
            [
             0,
             "#8e0152"
            ],
            [
             0.1,
             "#c51b7d"
            ],
            [
             0.2,
             "#de77ae"
            ],
            [
             0.3,
             "#f1b6da"
            ],
            [
             0.4,
             "#fde0ef"
            ],
            [
             0.5,
             "#f7f7f7"
            ],
            [
             0.6,
             "#e6f5d0"
            ],
            [
             0.7,
             "#b8e186"
            ],
            [
             0.8,
             "#7fbc41"
            ],
            [
             0.9,
             "#4d9221"
            ],
            [
             1,
             "#276419"
            ]
           ],
           "sequential": [
            [
             0,
             "#0d0887"
            ],
            [
             0.1111111111111111,
             "#46039f"
            ],
            [
             0.2222222222222222,
             "#7201a8"
            ],
            [
             0.3333333333333333,
             "#9c179e"
            ],
            [
             0.4444444444444444,
             "#bd3786"
            ],
            [
             0.5555555555555556,
             "#d8576b"
            ],
            [
             0.6666666666666666,
             "#ed7953"
            ],
            [
             0.7777777777777778,
             "#fb9f3a"
            ],
            [
             0.8888888888888888,
             "#fdca26"
            ],
            [
             1,
             "#f0f921"
            ]
           ],
           "sequentialminus": [
            [
             0,
             "#0d0887"
            ],
            [
             0.1111111111111111,
             "#46039f"
            ],
            [
             0.2222222222222222,
             "#7201a8"
            ],
            [
             0.3333333333333333,
             "#9c179e"
            ],
            [
             0.4444444444444444,
             "#bd3786"
            ],
            [
             0.5555555555555556,
             "#d8576b"
            ],
            [
             0.6666666666666666,
             "#ed7953"
            ],
            [
             0.7777777777777778,
             "#fb9f3a"
            ],
            [
             0.8888888888888888,
             "#fdca26"
            ],
            [
             1,
             "#f0f921"
            ]
           ]
          },
          "colorway": [
           "#636efa",
           "#EF553B",
           "#00cc96",
           "#ab63fa",
           "#FFA15A",
           "#19d3f3",
           "#FF6692",
           "#B6E880",
           "#FF97FF",
           "#FECB52"
          ],
          "font": {
           "color": "#2a3f5f"
          },
          "geo": {
           "bgcolor": "white",
           "lakecolor": "white",
           "landcolor": "#E5ECF6",
           "showlakes": true,
           "showland": true,
           "subunitcolor": "white"
          },
          "hoverlabel": {
           "align": "left"
          },
          "hovermode": "closest",
          "mapbox": {
           "style": "light"
          },
          "paper_bgcolor": "white",
          "plot_bgcolor": "#E5ECF6",
          "polar": {
           "angularaxis": {
            "gridcolor": "white",
            "linecolor": "white",
            "ticks": ""
           },
           "bgcolor": "#E5ECF6",
           "radialaxis": {
            "gridcolor": "white",
            "linecolor": "white",
            "ticks": ""
           }
          },
          "scene": {
           "xaxis": {
            "backgroundcolor": "#E5ECF6",
            "gridcolor": "white",
            "gridwidth": 2,
            "linecolor": "white",
            "showbackground": true,
            "ticks": "",
            "zerolinecolor": "white"
           },
           "yaxis": {
            "backgroundcolor": "#E5ECF6",
            "gridcolor": "white",
            "gridwidth": 2,
            "linecolor": "white",
            "showbackground": true,
            "ticks": "",
            "zerolinecolor": "white"
           },
           "zaxis": {
            "backgroundcolor": "#E5ECF6",
            "gridcolor": "white",
            "gridwidth": 2,
            "linecolor": "white",
            "showbackground": true,
            "ticks": "",
            "zerolinecolor": "white"
           }
          },
          "shapedefaults": {
           "line": {
            "color": "#2a3f5f"
           }
          },
          "ternary": {
           "aaxis": {
            "gridcolor": "white",
            "linecolor": "white",
            "ticks": ""
           },
           "baxis": {
            "gridcolor": "white",
            "linecolor": "white",
            "ticks": ""
           },
           "bgcolor": "#E5ECF6",
           "caxis": {
            "gridcolor": "white",
            "linecolor": "white",
            "ticks": ""
           }
          },
          "title": {
           "x": 0.05
          },
          "xaxis": {
           "automargin": true,
           "gridcolor": "white",
           "linecolor": "white",
           "ticks": "",
           "title": {
            "standoff": 15
           },
           "zerolinecolor": "white",
           "zerolinewidth": 2
          },
          "yaxis": {
           "automargin": true,
           "gridcolor": "white",
           "linecolor": "white",
           "ticks": "",
           "title": {
            "standoff": 15
           },
           "zerolinecolor": "white",
           "zerolinewidth": 2
          }
         }
        },
        "title": {
         "text": "(LOG) Frequence of Terms"
        },
        "xaxis": {
         "anchor": "y",
         "domain": [
          0,
          1
         ],
         "title": {
          "text": "x"
         }
        },
        "yaxis": {
         "anchor": "x",
         "domain": [
          0,
          1
         ],
         "title": {
          "text": "sum of y"
         }
        }
       }
      }
     },
     "metadata": {},
     "output_type": "display_data"
    }
   ],
   "source": [
    "# 看看詞頻raw data是否也存在長尾效應 -> 還是有\n",
    "sum_table = text_app_mapping_table.sum().sort_values(ascending = False)\n",
    "\n",
    "combined_dict = sum_table.sort_values(ascending = False)\n",
    "\n",
    "fig = px.histogram(\n",
    "    x = combined_dict.index[:1000], \n",
    "    y = combined_dict.values[:1000],\n",
    "    title = \"Frequence of Terms\")\n",
    "\n",
    "fig.show()\n",
    "\n",
    "# 嘗試透過加上log改善視覺化成果 -> 有改善\n",
    "sum_table_log = np.log1p(sum_table) \n",
    "\n",
    "combined_dict_log = sum_table_log.sort_values(ascending = False)\n",
    "\n",
    "fig = px.histogram(\n",
    "    x = combined_dict_log.index[:1000], \n",
    "    y = combined_dict_log.values[:1000],\n",
    "    title = \"(LOG) Frequence of Terms\")\n",
    "\n",
    "fig.show()"
   ]
  },
  {
   "cell_type": "markdown",
   "metadata": {},
   "source": [
    "# Phase 2"
   ]
  },
  {
   "cell_type": "code",
   "execution_count": null,
   "metadata": {},
   "outputs": [],
   "source": [
    "### Begin Assignment Here"
   ]
  }
 ],
 "metadata": {
  "kernelspec": {
   "display_name": "Python 3 (ipykernel)",
   "language": "python",
   "name": "python3"
  },
  "language_info": {
   "codemirror_mode": {
    "name": "ipython",
    "version": 3
   },
   "file_extension": ".py",
   "mimetype": "text/x-python",
   "name": "python",
   "nbconvert_exporter": "python",
   "pygments_lexer": "ipython3",
   "version": "3.11.0"
  }
 },
 "nbformat": 4,
 "nbformat_minor": 4
}
